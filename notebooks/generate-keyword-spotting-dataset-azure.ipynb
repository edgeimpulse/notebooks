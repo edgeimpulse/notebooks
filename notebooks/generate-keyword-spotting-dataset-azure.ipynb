{
 "cells": [
  {
   "cell_type": "markdown",
   "metadata": {},
   "source": [
    "[![Works with Edge Impulse](../.assets/images/ei-badge.svg)](http://edgeimpulse.com) [![Open in Google Colab](https://colab.research.google.com/assets/colab-badge.svg)](https://colab.research.google.com/github/edgeimpulse/notebooks/blob/main/notebooks/03-generate-keyword-spotting-dataset.ipynb) "
   ]
  },
  {
   "cell_type": "markdown",
   "metadata": {},
   "source": [
    "# Use Azure Text-To-Speech to generate a dataset for keyword spotting"
   ]
  },
  {
   "cell_type": "markdown",
   "metadata": {},
   "source": [
    "\n",
    "### Local Software Requirements\n",
    "- Python 3.5 or later\n",
    "- Pip package manager \n",
    "- Jupyter Notebook: https://jupyter.org/install\n",
    "- pip packages (install with `pip install `*`packagename`*):\n",
    "    - pydub https://pypi.org/project/pydub/\n",
    "    - azure-cognitiveservices-speech https://pypi.org/project/azure-cognitiveservices-speech/ \n",
    "    - requests https://pypi.org/project/requests/\n",
    "\n",
    "More information on installation guidance depending on your OS:\n",
    "https://learn.microsoft.com/en-us/azure/cognitive-services/speech-service/quickstarts/setup-platform?pivots=programming-language-python\n",
    "\n",
    "If you encounter any issues, feel free to refer to the official samples at https://github.com/Azure-Samples/cognitive-services-speech-sdk/blob/master/quickstart/python/text-to-speech/quickstart.ipynb\n",
    "\n"
   ]
  },
  {
   "cell_type": "code",
   "execution_count": null,
   "metadata": {
    "tags": []
   },
   "outputs": [],
   "source": [
    "# Imports\n",
    "import os\n",
    "import json\n",
    "import time\n",
    "import io\n",
    "import random\n",
    "import requests\n",
    "from pydub import AudioSegment\n",
    "import azure.cognitiveservices.speech as speechsdk"
   ]
  },
  {
   "cell_type": "markdown",
   "metadata": {},
   "source": [
    "## Set up Azure Text-to-Speech Cognitive Services\n",
    "First off you will need to set up and Edge Impulse account and create your first project.\n",
    "You will also need an Azure Account and an instance of the Text to Speech service enabled https://learn.microsoft.com/en-us/azure/cognitive-services/speech-service/index-text-to-speech. The first 500k characters generated each month are free, this should be plenty for most cases as you'll only need to generate your dataset once.\n",
    "You will also need to set the environment variables named \"SPEECH_KEY\" and \"SPEECH_REGION\" according to your OS as detailed here: https://learn.microsoft.com/en-us/azure/cognitive-services/speech-service/get-started-text-to-speech?tabs=windows%2Cterminal&pivots=programming-language-python#set-environment-variables\n",
    "\n"
   ]
  },
  {
   "cell_type": "code",
   "execution_count": null,
   "metadata": {
    "tags": []
   },
   "outputs": [],
   "source": [
    "# This example requires environment variables named \"SPEECH_KEY\" and \"SPEECH_REGION\"\n",
    "speech_config = speechsdk.SpeechConfig(subscription=os.environ.get('SPEECH_KEY'), region=os.environ.get('SPEECH_REGION'))\n",
    "request_limit_per_minute = 20"
   ]
  },
  {
   "cell_type": "markdown",
   "metadata": {},
   "source": [
    "\n",
    "## Generate the desired samples\n",
    "First off we need to set our desired keywords and labels:\n"
   ]
  },
  {
   "cell_type": "code",
   "execution_count": null,
   "metadata": {
    "tags": []
   },
   "outputs": [],
   "source": [
    "\n",
    "# Keyword or short sentence and label (e.g. 'hello world')\n",
    "keyword = [\n",
    "    {'string':'edge','label':'edge'},\n",
    "    {'string':'impulse','label':'impulse'},\n",
    "]"
   ]
  },
  {
   "cell_type": "markdown",
   "metadata": {},
   "source": [
    "\n",
    "Then we need to set up the parameters for our speech dataset, all possible combinations will be iterated through:\n",
    "- languages - Choose the text to speech voice languages to use (https://cloud.google.com/text-to-speech/docs/voices)\n",
    "- pitches - Which voice pitches to apply\n",
    "- genders - Which SSML genders to apply\n",
    "- speakingRates - Which speaking speeds to apply\n"
   ]
  },
  {
   "cell_type": "code",
   "execution_count": null,
   "metadata": {
    "tags": []
   },
   "outputs": [],
   "source": [
    "\n",
    "\n",
    "# Languages, remove as appropriate\n",
    "# Full reference here https://learn.microsoft.com/en-us/azure/cognitive-services/speech-service/language-support?tabs=tts\n",
    "# \\W([en]{2}-[a-zA-Z]{2}-\\w*)\n",
    "# languages = [\n",
    "#     'ar-XA', 'bn-IN',  'en-GB',  'fr-CA',\n",
    "#     'en-US', 'es-ES',  'fi-FI',  'gu-IN',\n",
    "#     'ja-JP', 'kn-IN',  'ml-IN',  'sv-SE',\n",
    "#     'ta-IN', 'tr-TR',  'cs-CZ',  'de-DE',\n",
    "#     'en-AU', 'en-IN',  'fr-FR',  'hi-IN',\n",
    "#     'id-ID', 'it-IT',  'ko-KR',  'ru-RU',\n",
    "#     'uk-UA', 'cmn-CN', 'cmn-TW', 'da-DK',\n",
    "#     'el-GR', 'fil-PH', 'hu-HU',  'nb-NO',\n",
    "#     'nl-NL', 'pt-PT',  'sk-SK',  'vi-VN',\n",
    "#     'pl-PL', 'pt-BR',  'ca-ES',  'yue-HK',\n",
    "#     'af-ZA', 'bg-BG',  'lv-LV',  'ro-RO',\n",
    "#     'sr-RS', 'th-TH',  'te-IN',  'is-IS'\n",
    "# ]\n",
    "voices = [\n",
    "    'en-AU-AnnetteNeural','en-AU-CarlyNeural','en-AU-DarrenNeural','en-AU-DuncanNeural','en-AU-ElsieNeural','en-AU-FreyaNeural','en-AU-JoanneNeural',\n",
    "    'en-AU-KenNeural','en-AU-KimNeural','en-AU-NatashaNeural','en-AU-NeilNeural','en-AU-TimNeural','en-AU-TinaNeural','en-AU-WilliamNeural',\n",
    "    'en-CA-ClaraNeural','en-CA-LiamNeural','en-GB-AbbiNeural','en-GB-AlfieNeural','en-GB-BellaNeural','en-GB-ElliotNeural','en-GB-EthanNeural',\n",
    "    'en-GB-HollieNeural','en-GB-LibbyNeural','en-GB-MaisieNeural','en-GB-NoahNeural','en-GB-OliverNeural','en-GB-OliviaNeural','en-GB-RyanNeural',\n",
    "    'en-GB-SoniaNeural',\n",
    "    'en-GB-ThomasNeural','en-HK-SamNeural','en-HK-YanNeural','en-IE-ConnorNeural','en-IE-EmilyNeural','en-IN-NeerjaNeural',\n",
    "    'en-IN-PrabhatNeural','en-KE-AsiliaNeural','en-KE-ChilembaNeural','en-NG-AbeoNeural','en-NG-EzinneNeural','en-NZ-MitchellNeural','en-NZ-MollyNeural',\n",
    "    'en-PH-JamesNeural','en-PH-RosaNeural','en-SG-LunaNeural','en-SG-WayneNeural','en-TZ-ElimuNeural','en-TZ-ImaniNeural',\n",
    "    #'en-US-AIGenerate1Neural1','en-US-AIGenerate2Neural1',\n",
    "    'en-US-AmberNeural','en-US-AnaNeural','en-US-AriaNeural','en-US-AshleyNeural','en-US-BrandonNeural','en-US-ChristopherNeural',\n",
    "    'en-US-CoraNeural','en-US-DavisNeural','en-US-ElizabethNeural','en-US-EricNeural','en-US-GuyNeural','en-US-JacobNeural','en-US-JaneNeural','en-US-JasonNeural',\n",
    "    #'en-US-JennyMultilingualNeural3',\n",
    "    'en-US-JennyNeural',\n",
    "    #'en-US-MichelleNeural',\n",
    "    'en-US-MonicaNeural','en-US-NancyNeural','en-US-RogerNeural','en-US-SaraNeural',\n",
    "    'en-US-SteffanNeural','en-US-TonyNeural','en-ZA-LeahNeural','en-ZA-LukeNeural'\n",
    "]\n",
    "languages = [ 'en-US'\n",
    "   # 'en-AU','en-CA','en-GB','en-HK','en-IE','en-IN','en-KE','es-AR', 'es-ES'\n",
    "#     'en-NG','en-NZ','en-PH','en-SG','en-TZ','en-US','en-ZA'\n",
    "#     'af-ZA','am-ET','ar-AE','ar-BH','ar-DZ','ar-EG','ar-IQ','ar-JO','ar-KW','ar-LB','ar-LY','ar-MA','ar-OM','ar-QA','ar-SA','ar-SY','ar-TN','ar-YE','az-AZ',\n",
    "#     'bg-BG','bn-BD','bn-IN','bs-BA','ca-ES','cs-CZ','cy-GB','da-DK','de-AT','de-CH','de-DE','el-GR','en-AU','en-CA','en-GB','en-HK','en-IE','en-IN','en-KE',\n",
    "#     'en-NG','en-NZ','en-PH','en-SG','en-TZ','en-US','en-ZA','es-AR','es-BO','es-CL','es-CO','es-CR','es-CU','es-DO','es-EC','es-ES','es-GQ','es-GT','es-HN',\n",
    "#     'es-MX','es-NI','es-PA','es-PE','es-PR','es-PY','es-SV','es-US','es-UY','es-VE','et-EE','eu-ES','fa-IR','fi-FI','fr-BE','fr-CA','fr-CH','fr-FR','ga-IE',\n",
    "#     'gl-ES','gu-IN','he-IL','hi-IN','hr-HR','hu-HU','hy-AM','id-ID','is-IS','it-IT','ja-JP','jv-ID','ka-GE','kk-KZ','km-KH','kn-IN','ko-KR','lo-LA','lt-LT',\n",
    "#     'lv-LV','mk-MK','ml-IN','mn-MN','mr-IN','ms-MY','mt-MT','my-MM','nb-NO','ne-NP','nl-BE','nl-NL','pl-PL','ps-AF','pt-BR','pt-PT','ro-RO','ru-RU','si-LK',\n",
    "#     'sk-SK','sl-SI','so-SO','sq-AL','sr-RS','su-ID','sv-SE','sw-KE','sw-TZ','ta-IN','ta-LK','ta-MY','ta-SG','te-IN','th-TH','tr-TR','uk-UA','ur-IN','ur-PK',\n",
    "#     'uz-UZ','vi-VN','zh-CN','zh-HK','zh-TW','zu-ZA'\n",
    "]\n",
    "\n",
    "# Pitches to generate (in semitones) range: [-20.0, 20.0]\n",
    "pitches = [0]#[-2, 0, 2]\n",
    "# Voice genders to use\n",
    "#genders = [\"neutral\"]#[\"NEUTRAL\", \"FEMALE\", \"MALE\"]\n",
    "# Styles\n",
    "styles = [\"chat\",\"cheerful\",\"excited\", \"friendly\"]#, \"whispering\" ]\n",
    "# Speaking rates to use range: [0.25, 4.0]\n",
    "speakingRates = ['-30.00%', \"0\"]\n",
    "#speakingRates = [0]\n",
    "\n",
    "#roles = ['Girl','Boy','YoungAdultFemale','YoungAdultMale','OlderAdultFemale','OlderAdultMale','SeniorFemale','SeniorMale']\n",
    "#roles = ['Girl','SeniorMale']\n"
   ]
  },
  {
   "cell_type": "markdown",
   "metadata": {},
   "source": [
    "\n",
    "Then provide some other key parameters:\n",
    "- out_length - How long each output sample should be\n",
    "- count - Maximum number of samples to output (if all combinations of languages, pitches etc are higher then this restricts output)\n",
    "- voice-dir - Where to store the clean samples before noise is added\n",
    "- noise-url - Which noise file to download and apply to your samples\n",
    "- output-folder - The final output location of the noised samples\n",
    "- num-copies - How many different noisy versions of each sample to create\n",
    "- max-noise-level - in Db, \n",
    "\n"
   ]
  },
  {
   "cell_type": "code",
   "execution_count": null,
   "metadata": {
    "tags": []
   },
   "outputs": [],
   "source": [
    "# # Out length minimum (default: 1s)\n",
    "# out_length = 1\n",
    "# # Maximum number of keywords to generate\n",
    "# count = 30\n",
    "# # Raw sample output directory\n",
    "# voice_dir = 'out-wav'\n",
    "# # Creative commons background noise from freesound.org:https://freesound.org/people/Astounded/sounds/483561/\n",
    "# noise_url = 'https://cdn.freesound.org/previews/483/483561_10201334-lq.ogg'\n",
    "# output_folder = 'out-noisy'\n",
    "# num_copies = 2  # Number of noisy copies to create for each input sample\n",
    "# max_noise_level = -5  # Maximum noise level to add in dBFS (negative value)\n",
    "\n",
    "\n",
    "# Out length minimum (default: 1s)\n",
    "out_length = 1\n",
    "# Maximum number of keywords to generate\n",
    "count = 800\n",
    "# Raw sample output directory\n",
    "voice_dir = 'out-wav'\n",
    "# Creative commons background noise from freesound.org:https://freesound.org/people/Astounded/sounds/483561/\n",
    "noise_url = 'https://cdn.freesound.org/previews/483/483561_10201334-lq.ogg'\n",
    "output_folder = 'out-noisy'\n",
    "num_copies = 3  # Number of noisy copies to create for each input sample\n",
    "max_noise_level = -4  # Maximum noise level to add in dBFS (negative value)\n"
   ]
  },
  {
   "cell_type": "markdown",
   "metadata": {},
   "source": [
    "Then we need to check all the output folders are ready"
   ]
  },
  {
   "cell_type": "code",
   "execution_count": null,
   "metadata": {
    "tags": []
   },
   "outputs": [],
   "source": [
    "\n",
    "# Check if output directory for noisey files exists and create it if it doesn't\n",
    "if not os.path.exists(output_folder):\n",
    "    os.makedirs(output_folder)\n",
    "# Check if output directory for raw voices exists and create it if it doesn't\n",
    "if not os.path.exists(voice_dir):\n",
    "    os.makedirs(voice_dir)    \n"
   ]
  },
  {
   "cell_type": "code",
   "execution_count": null,
   "metadata": {
    "tags": []
   },
   "outputs": [],
   "source": [
    "# https://stackoverflow.com/a/29550200/4819888\n",
    "def detect_leading_silence(sound, silence_threshold=-50.0, chunk_size=10):\n",
    "    '''\n",
    "    sound is a pydub.AudioSegment\n",
    "    silence_threshold in dB\n",
    "    chunk_size in ms\n",
    "\n",
    "    iterate over chunks until you find the first one with sound\n",
    "    '''\n",
    "    trim_ms = 0 # ms\n",
    "\n",
    "    assert chunk_size > 0 # to avoid infinite loop\n",
    "    while sound[trim_ms:trim_ms+chunk_size].dBFS < silence_threshold and trim_ms < len(sound):\n",
    "        trim_ms += chunk_size\n",
    "\n",
    "    return trim_ms\n",
    "def trim_silence(sound, silence_threshold=-50.0, chunk_size=10):\n",
    "\n",
    "    start_trim = detect_leading_silence(sound, silence_threshold, chunk_size)\n",
    "    end_trim = detect_leading_silence(sound.reverse(), silence_threshold, chunk_size)\n",
    "\n",
    "    duration = len(sound)    \n",
    "    trimmed_sound = sound[start_trim:duration-end_trim]\n",
    "    return trimmed_sound\n",
    "\n",
    "def process_sound_for_silence(sound):\n",
    "    lenuntrimmed = len(sound)\n",
    "    trimmed_sound = trim_silence(sound)\n",
    "    lentrimmed = len(trimmed_sound)\n",
    "    print(\"Trimmed from \"+str(lenuntrimmed/1000)+\"s to \" +str(lentrimmed/1000)+\"s\")\n",
    "    return trimmed_sound\n",
    "# sound = AudioSegment.from_file(file_path_here, format=\"wav\")\n",
    "\n",
    "# trimmed_sound = trim_silence(sound)\n",
    "\n",
    "# trimmed_sound.export(file_path_trimmed, format='wav')"
   ]
  },
  {
   "cell_type": "markdown",
   "metadata": {},
   "source": [
    "And download the background noise file"
   ]
  },
  {
   "cell_type": "code",
   "execution_count": null,
   "metadata": {
    "tags": []
   },
   "outputs": [],
   "source": [
    "\n",
    "# Download background noise file\n",
    "response = requests.get(noise_url)\n",
    "response.raise_for_status()\n",
    "noise_audio = AudioSegment.from_file(io.BytesIO(response.content), format='ogg')\n"
   ]
  },
  {
   "cell_type": "markdown",
   "metadata": {},
   "source": [
    "Then we can generate a list of all possible parameter combinations based on the input earlier. If you have set `num_copies` to be smaller than the number of combinations then these options will be reduced: "
   ]
  },
  {
   "cell_type": "code",
   "execution_count": null,
   "metadata": {
    "tags": []
   },
   "outputs": [],
   "source": [
    "\n",
    "# Generate all combinations of parameters\n",
    "all_opts = []\n",
    "for v in voices:\n",
    "    for style in styles:\n",
    "        for kw in keyword:\n",
    "            all_opts.append({\n",
    "                    \"voice\": v,\n",
    "                    \"language\": v,\n",
    "                    \"style\": style,\n",
    "                    \"text\": kw['string'],\n",
    "                    \"label\": kw['label']\n",
    "                })\n",
    "print(len(all_opts))\n",
    "if len(all_opts)*num_copies > count:\n",
    "    selectEvery = len(all_opts)*num_copies // count\n",
    "    selectNext = 0\n",
    "    all_opts = all_opts[::selectEvery]\n",
    "print(f'Generating {len(all_opts)*num_copies} samples')"
   ]
  },
  {
   "cell_type": "markdown",
   "metadata": {},
   "source": [
    "Finally we iterate though all the options generated, call the Google TTS API to generate the desired sample, and apply noise to it, saving locally with metadata:"
   ]
  },
  {
   "cell_type": "code",
   "execution_count": null,
   "metadata": {
    "tags": []
   },
   "outputs": [],
   "source": [
    "\n",
    "# Instantiate list for file label information\n",
    "downloaded_files = []\n",
    "\n",
    "# Instantiates a client\n",
    "# Select the type of audio file you want returned\n",
    "audio_config = speechsdk.audio.AudioOutputConfig(use_default_speaker=True)\n",
    "speech_synthesizer = speechsdk.SpeechSynthesizer(speech_config=speech_config, audio_config=audio_config)\n",
    "\n",
    "ix = 0\n",
    "for o in all_opts:\n",
    "    ix += 1\n",
    "    # Set the text input to be synthesized\n",
    "    synthesis_input = o['text']\n",
    "    # Build the voice request\n",
    "    speech_synthesis_voice_name=o['voice']# 'en-US-JennyMultilingualNeural'\n",
    "\n",
    "    # ssml = \"\"\"<speak version='1.0' xml:lang='en-US' xmlns='http://www.w3.org/2001/10/synthesis' xmlns:mstts='http://www.w3.org/2001/mstts'>\n",
    "    #     <voice name='{}'>\n",
    "    #         <mstts:audioduration value=\"{}s\"/>\n",
    "    #         <mstts:express-as style=\"{}\" role=\"{}\">\n",
    "    #             {}\n",
    "    #         </mstts:express-as>\n",
    "    #     </voice>\n",
    "    # </speak>\"\"\".format(speech_synthesis_voice_name, out_length, o['style'], o['role'], synthesis_input)\n",
    "\n",
    "    ssml = \"\"\"<speak version='1.0' xml:lang='en-US' xmlns='http://www.w3.org/2001/10/synthesis' xmlns:mstts='http://www.w3.org/2001/mstts'>\n",
    "        <voice name='{}'>\n",
    "            <mstts:express-as style=\"{}\">\n",
    "                {}\n",
    "            </mstts:express-as>\n",
    "        </voice>\n",
    "    </speak>\"\"\".format(speech_synthesis_voice_name, o['style'], synthesis_input)\n",
    "\n",
    "    # Perform the text-to-speech request on the text input with the selected\n",
    "    # voice parameters and audio file type\n",
    "    wav_file_name = f\"./{voice_dir}/{o['label']}.{o['voice']}-{o['style']}.tts.wav\"\n",
    "\n",
    "    if not os.path.exists(wav_file_name):\n",
    "        print(f\"[{ix}/{len(all_opts)}] Text-to-speeching...\")\n",
    "        \n",
    "        speech_synthesis_result = speech_synthesizer.speak_ssml_async(ssml).get()# this is the speak on which plays the sounds as it is received (so you can validate what is coming through - can get annoying if you need to keep the sound on :) )\n",
    "\n",
    "        if speech_synthesis_result.reason == speechsdk.ResultReason.SynthesizingAudioCompleted:\n",
    "            print(\"Speech synthesized for text [{}] and saved as '{}'\".format(o['text'],wav_file_name))\n",
    "            stream = speechsdk.AudioDataStream(speech_synthesis_result)\n",
    "            stream.save_to_wav_file(wav_file_name)\n",
    "            sound = AudioSegment.from_file(wav_file_name, format=\"wav\")\n",
    "            trimmed_sound = process_sound_for_silence(sound)\n",
    "            trimmed_sound.export(wav_file_name, format='wav')\n",
    "\n",
    "        elif speech_synthesis_result.reason == speechsdk.ResultReason.Canceled:\n",
    "            cancellation_details = speech_synthesis_result.cancellation_details\n",
    "            print(\"Speech synthesis canceled: {}\".format(cancellation_details.reason))\n",
    "            if cancellation_details.reason == speechsdk.CancellationReason.Error:\n",
    "                if cancellation_details.error_details:\n",
    "                    print(\"Error details: {}\".format(cancellation_details.error_details))\n",
    "                    print(\"Did you set the speech resource key and region values?\")\n",
    "\n",
    "        #with open(wav_file_name, \"wb\") as f:\n",
    "        #    f.write(response.audio_content)\n",
    "        has_hit_api = True\n",
    "    else:\n",
    "        print(f'skipping {wav_file_name}')\n",
    "        has_hit_api = False\n",
    "\n",
    "    \n",
    "    print(wav_file_name)\n",
    "    # Load voice sample\n",
    "    voice_audio = AudioSegment.from_file(wav_file_name)\n",
    "    # Add silence to match output length with random padding\n",
    "    difference = (out_length * 1000) - len(voice_audio)\n",
    "    if difference > 0:\n",
    "        padding_before = random.randint(0, difference)\n",
    "        padding_after = difference - padding_before\n",
    "        voice_audio = AudioSegment.silent(duration=padding_before) +  voice_audio + AudioSegment.silent(duration=padding_after)\n",
    "\n",
    "    for i in range(num_copies):\n",
    "        # Save noisy sample to output folder\n",
    "        output_filename = f\"./{o['label']}.{o['voice']}-{o['style']}_noisy_{i+1}.wav\"\n",
    "        output_path = os.path.join(output_folder, output_filename)\n",
    "        if not os.path.exists(output_path):\n",
    "            # Select random section of noise and random noise level\n",
    "            start_time = random.randint(0, len(noise_audio) - len(voice_audio))\n",
    "            end_time = start_time +len(voice_audio)\n",
    "            noise_level = random.uniform(max_noise_level, 0)\n",
    "\n",
    "            # Extract selected section of noise and adjust volume\n",
    "            noise_segment = noise_audio[start_time:end_time]\n",
    "            noise_segment = noise_segment - abs(noise_level)\n",
    "\n",
    "            # Mix voice sample with noise segment\n",
    "            mixed_audio = voice_audio.overlay(noise_segment)\n",
    "            # Save mixed audio to file\n",
    "            mixed_audio.export(output_path, format='wav')\n",
    "\n",
    "            print(f'Saved mixed audio to {output_path}')\n",
    "        else:\n",
    "            print(f'skipping {output_path}')\n",
    "        # Save metadata for file\n",
    "        downloaded_files.append({\n",
    "            \"path\": str(output_filename),\n",
    "            \"label\": o['label'],\n",
    "            \"category\": \"split\",\n",
    "            \"metadata\": {\n",
    "                \"voice\": str(['voice']),\n",
    "                \"style\": str(o['style']),\n",
    "                \"language\": str(o['language']),\n",
    "                \"text\": o['text'],\n",
    "                \"imported_from\": \"Azure Cognitive Services TTS\"\n",
    "            }\n",
    "        })\n",
    "        \n",
    "    # Introduce delay as the free Azure Text to Speech allowance only allows 20 requests per second https://learn.microsoft.com/en-us/azure/cognitive-services/speech-service/speech-services-quotas-and-limits#common-text-to-speech-quotas-and-limits\n",
    "    if has_hit_api:\n",
    "        delaySec =int(60/request_limit_per_minute)\n",
    "        print(\"Waiting \"+str(delaySec)+\" seconds...\")\n",
    "        time.sleep(delaySec)\n",
    "\n",
    "print(\"Done text-to-speeching\")\n",
    "print(\"\")\n",
    "\n",
    "input_file = os.path.join(output_folder, 'input.json')\n",
    "info_file = {\n",
    "    \"version\": 1,\n",
    "    \"files\": downloaded_files\n",
    "}\n",
    "# Output the metadata file\n",
    "with open(input_file, \"w\") as f:\n",
    "    json.dump(info_file, f)"
   ]
  },
  {
   "cell_type": "markdown",
   "metadata": {},
   "source": [
    "The files in `./out-noisy` can be uploaded easily using the Edge Impulse CLI tool https://docs.edgeimpulse.com/docs/edge-impulse-cli/cli-uploader:"
   ]
  },
  {
   "cell_type": "code",
   "execution_count": null,
   "metadata": {
    "vscode": {
     "languageId": "shellscript"
    }
   },
   "outputs": [],
   "source": [
    "# Move to the out-noisy folder\n",
    "! cd out-noisy\n",
    "# Upload all files in the out-noisy folder with metadata attached in the input.json file\n",
    "! edge-impulse-uploader --info-file input.json *"
   ]
  },
  {
   "cell_type": "markdown",
   "metadata": {},
   "source": [
    "## What next?\n",
    "Now you can use your keywords to create a robust keyword detection model in Edge Impulse Studio!\n",
    "\n",
    "Make use of our pre-built keyword dataset to add noise and 'unknown' words to your model: https://docs.edgeimpulse.com/docs/pre-built-datasets/keyword-spotting\n",
    "\n",
    "Try out both classification models and the transfer learning keyword spotting model to see which works best for your case"
   ]
  }
 ],
 "metadata": {
  "kernelspec": {
   "display_name": "Python 3 (ipykernel)",
   "language": "python",
   "name": "python3"
  },
  "language_info": {
   "codemirror_mode": {
    "name": "ipython",
    "version": 3
   },
   "file_extension": ".py",
   "mimetype": "text/x-python",
   "name": "python",
   "nbconvert_exporter": "python",
   "pygments_lexer": "ipython3",
   "version": "3.10.8"
  },
  "vscode": {
   "interpreter": {
    "hash": "bad1f34850cf7a418228d1fe01ba985e30c9d9c31c0cf028909436fe9d6b20cb"
   }
  }
 },
 "nbformat": 4,
 "nbformat_minor": 4
}
