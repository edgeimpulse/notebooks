{
 "cells": [
  {
   "attachments": {},
   "cell_type": "markdown",
   "metadata": {
    "id": "OHe4nlzBw_EE"
   },
   "source": [
    "# Train and Export an Edge AI Model Programmatically\n",
    "[![Works with Edge Impulse](../.assets/images/ei-badge.svg)](http://edgeimpulse.com) [![Open in Google Colab](https://colab.research.google.com/assets/colab-badge.svg)](https://colab.research.google.com/github/edgeimpulse/notebooks/blob/15-create-a-notebook-showing-upload-train-and-deploy/notebooks/02-upload-train-and-deploy.ipynb) "
   ]
  },
  {
   "attachments": {},
   "cell_type": "markdown",
   "metadata": {},
   "source": [
    "## 1. Setup\n",
    "\n",
    "This section will help you set up the data, environment and API credentials you need to start making calls to the [Edge Impulse API](https://docs.edgeimpulse.com/reference/edge-impulse-api/edge-impulse-api). You only need to setup when you:\n",
    "\n",
    "- (re)Open the notebook on your browser or IDE, or\n",
    "- restart the runtime, or\n",
    "- change the Edge Impulse organization/project you are working on"
   ]
  },
  {
   "attachments": {},
   "cell_type": "markdown",
   "metadata": {},
   "source": [
    "### 1.1 Install dependencies into the notebook's runtime environment\n",
    "This notebook would normally run in a development environment, either on your computer, or some cloud resource like AWS Sagemaker or Google Colab. So in order to make sure it runs consistently, we need to make sure we install all the necessary dependencies."
   ]
  },
  {
   "attachments": {},
   "cell_type": "markdown",
   "metadata": {},
   "source": [
    "#### 1.1.1 Install the Edge Impulse CLI\n",
    "The Edge Impulse CLI includes a number of utilities that make it easier to work with Edge Impulse from the command line (or a notebook like this one). We will be using the Edge Impulse CLI to upload data to our project."
   ]
  },
  {
   "attachments": {},
   "cell_type": "markdown",
   "metadata": {},
   "source": [
    "> ⚠️ You will likely see a number of warnings being printed but you can safely ignore them.\n",
    "\n",
    "> ⚠️ The `--unsafe-perm` flag is only needed for cloud environments like Google Colab. If you are installing the CLI on your computer, do not use the `--unsafe-perm` flag."
   ]
  },
  {
   "cell_type": "code",
   "execution_count": null,
   "metadata": {},
   "outputs": [],
   "source": [
    "# The parameter --unsafe-perm is only needed for Google Colab.\n",
    "# If you are installing the CLI on your computer, do not use --unsafe-perm\n",
    "!npm install -g --unsafe-perm edge-impulse-cli"
   ]
  },
  {
   "attachments": {},
   "cell_type": "markdown",
   "metadata": {},
   "source": [
    "You can verify that the Edge Impulse CLI has been installed by running the following command:"
   ]
  },
  {
   "cell_type": "code",
   "execution_count": null,
   "metadata": {},
   "outputs": [],
   "source": [
    "!edge-impulse-uploader --version"
   ]
  },
  {
   "attachments": {},
   "cell_type": "markdown",
   "metadata": {},
   "source": [
    "#### 1.1.2 Install DVC\n",
    "[DVC](https://dvc.org/) is an open source data versioning tool that makes it possible to link a specific data snapshot (i.e., dataset) to a git commit, thus helping us ensure the repeatability of our AI experiments. We use [DVC](https://dvc.org/) to store versioned datasets for this and other notebooks, in an S3 bucket, but you don't have to worry about that since [DVC](https://dvc.org/) takes care of all the complexity of interacting with the bucket for us."
   ]
  },
  {
   "cell_type": "code",
   "execution_count": null,
   "metadata": {},
   "outputs": [],
   "source": [
    "!pip install --upgrade pip\n",
    "!pip install dvc[s3]"
   ]
  },
  {
   "attachments": {},
   "cell_type": "markdown",
   "metadata": {},
   "source": [
    "### 1.2 Get the data\n",
    "Here we use [DVC](https://dvc.org/) to download the data that we will use in our example. Data is versioned in the [edgeimpulse/notebooks](https://github.com/edgeimpulse/notebooks) repository and can be retrieved using the `dvc get` command, which will download the data to a folder named `data`:"
   ]
  },
  {
   "cell_type": "code",
   "execution_count": null,
   "metadata": {},
   "outputs": [],
   "source": [
    "!dvc get --rev 37f9abb0c9322ab8ad3d77b2430e147ef77f313f https://github.com/edgeimpulse/notebooks data/package-mishandling -o data"
   ]
  },
  {
   "attachments": {},
   "cell_type": "markdown",
   "metadata": {},
   "source": [
    "### 1.3 Obtain and enter your Edge Impulse Credentials\n",
    "In addition to your Edge Impulse username and password, you will also need to enter a member API key (`EI_ORG_MEMBER_KEY`) for your organization. The member API key starts with `ei_` and can be obtained from your Organization's dashboard."
   ]
  },
  {
   "attachments": {},
   "cell_type": "markdown",
   "metadata": {},
   "source": [
    "![Obtain a member organization API key](../.assets/images/org-member-key.png)"
   ]
  },
  {
   "cell_type": "code",
   "execution_count": null,
   "metadata": {},
   "outputs": [],
   "source": [
    "import getpass\n",
    "\n",
    "EI_USERNAME = input(\"Enter your Edge Impulse username: \")\n",
    "EI_PASSWORD=getpass.getpass(\"Enter your Edge Impulse password\")\n",
    "EI_ORG_MEMBER_KEY=getpass.getpass(\"Enter your organizatin's member API key: \")"
   ]
  },
  {
   "attachments": {},
   "cell_type": "markdown",
   "metadata": {},
   "source": [
    "### 1.4 Run the setup block\n",
    "\n",
    "Run the block below and enter your API key when prompted. Then continue to the next section."
   ]
  },
  {
   "cell_type": "code",
   "execution_count": null,
   "metadata": {},
   "outputs": [],
   "source": [
    "import getpass\n",
    "import requests\n",
    "import json\n",
    "import pytz\n",
    "from datetime import datetime\n",
    "import time\n",
    "import sys\n",
    "\n",
    "URL_STUDIO = \"https://studio.edgeimpulse.com/v1/api/\"\n",
    "URL_PROJECT = URL_STUDIO + str(PROJECT_ID)\n",
    "API_HEADERS = {\n",
    "    \"Accept\": \"application/json\",\n",
    "    \"x-api-key\": KEY  #👈🏼 Update as necessary!\n",
    "}\n",
    "\n",
    "\n",
    "def get_eon_info(project, response_key):\n",
    "    response = requests.get(URL_STUDIO + str(project) + \"/optimize/state\",\n",
    "                            headers=API_HEADERS)\n",
    "    if response.ok:\n",
    "        return json.loads(response.text)[response_key]\n",
    "\n",
    "response = requests.get(URL_PROJECT, headers=API_HEADERS)\n",
    "if response.ok:\n",
    "    data = json.loads(response.text)\n",
    "    print(json.dumps(data, indent=2))\n",
    "else:\n",
    "    print(\"\\n⛔️ An Error Ocurred, do you have the correct project ID?\")"
   ]
  },
  {
   "attachments": {},
   "cell_type": "markdown",
   "metadata": {},
   "source": [
    "## 2. Create a project"
   ]
  },
  {
   "attachments": {},
   "cell_type": "markdown",
   "metadata": {},
   "source": [
    "## 3. Upload the data"
   ]
  },
  {
   "attachments": {},
   "cell_type": "markdown",
   "metadata": {},
   "source": [
    "## 4. Train the model"
   ]
  },
  {
   "attachments": {},
   "cell_type": "markdown",
   "metadata": {},
   "source": [
    "## 5. Download the trained model"
   ]
  }
 ],
 "metadata": {
  "colab": {
   "collapsed_sections": [
    "IlOl48FUGAC4",
    "e07CSveEGAC5",
    "r0cypgtQGAC6"
   ],
   "private_outputs": true,
   "provenance": []
  },
  "kernelspec": {
   "display_name": "Python 3",
   "language": "python",
   "name": "python3"
  },
  "language_info": {
   "codemirror_mode": {
    "name": "ipython",
    "version": 3
   },
   "file_extension": ".py",
   "mimetype": "text/x-python",
   "name": "python",
   "nbconvert_exporter": "python",
   "pygments_lexer": "ipython3",
   "version": "3.11.1 (main, Dec 23 2022, 09:40:27) [Clang 14.0.0 (clang-1400.0.29.202)]"
  },
  "vscode": {
   "interpreter": {
    "hash": "1a1af0ee75eeea9e2e1ee996c87e7a2b11a0bebd85af04bb136d915cefc0abce"
   }
  }
 },
 "nbformat": 4,
 "nbformat_minor": 0
}
