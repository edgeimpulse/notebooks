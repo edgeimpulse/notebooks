{
 "cells": [
  {
   "attachments": {},
   "cell_type": "markdown",
   "metadata": {},
   "source": [
    "[![Works with Edge Impulse](../.assets/images/ei-badge.svg)](http://edgeimpulse.com) [![Open in Google Colab](https://colab.research.google.com/assets/colab-badge.svg)](https://colab.research.google.com/github/edgeimpulse/notebooks/blob/main/notebooks/02-upload-train-and-deploy.ipynb) [![DVC](https://img.shields.io/badge/DVC-2.34.4-blue.svg?logo=DVC)](https://colab.research.google.com/github/edgeimpulse/notebooks/blob/main/notebooks/02-upload-train-and-deploy.ipynb)"
   ]
  },
  {
   "attachments": {},
   "cell_type": "markdown",
   "metadata": {
    "id": "OHe4nlzBw_EE"
   },
   "source": [
    "# Train and Deploy an Edge AI Model Programmatically\n",
    "\n",
    "The EON Tuner is Edge Impulses's AutoML (automated machine learning) tool to help you find and select the best embedded machine learning model for your application within the constraints of your target device.\n",
    "\n",
    "This notebook will show you how to configure and run the EON Tuner programmatically using the [Edge Impulse API](https://docs.edgeimpulse.com/reference/edge-impulse-api/edge-impulse-api)!"
   ]
  },
  {
   "cell_type": "code",
   "execution_count": null,
   "metadata": {},
   "outputs": [],
   "source": [
    "!pip install dvc dvc-s3"
   ]
  }
 ],
 "metadata": {
  "colab": {
   "collapsed_sections": [
    "IlOl48FUGAC4",
    "e07CSveEGAC5",
    "r0cypgtQGAC6"
   ],
   "private_outputs": true,
   "provenance": []
  },
  "kernelspec": {
   "display_name": "Python 3",
   "language": "python",
   "name": "python3"
  },
  "language_info": {
   "codemirror_mode": {
    "name": "ipython",
    "version": 3
   },
   "file_extension": ".py",
   "mimetype": "text/x-python",
   "name": "python",
   "nbconvert_exporter": "python",
   "pygments_lexer": "ipython3",
   "version": "3.11.1 (main, Dec 23 2022, 09:40:27) [Clang 14.0.0 (clang-1400.0.29.202)]"
  },
  "vscode": {
   "interpreter": {
    "hash": "1a1af0ee75eeea9e2e1ee996c87e7a2b11a0bebd85af04bb136d915cefc0abce"
   }
  }
 },
 "nbformat": 4,
 "nbformat_minor": 0
}
