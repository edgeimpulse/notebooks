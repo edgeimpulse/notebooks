{
 "cells": [
  {
   "cell_type": "markdown",
   "id": "5e9a9b6b-0f09-4b9e-8922-31848b2bd416",
   "metadata": {},
   "source": [
    "# Using the Python SDK for AutoML with the EON Tuner\n",
    "\n",
    "<!--- Do not modify the markdown for this example directly! It is generated from a notebook in https://github.com/edgeimpulse/notebooks --->"
   ]
  },
  {
   "cell_type": "markdown",
   "id": "14d2eaca-ddf2-4780-9ee1-3148e0e28df3",
   "metadata": {},
   "source": [
    "<table class=\"tfo-notebook-buttons\" align=\"left\">\n",
    "  <td>\n",
    "    <a target=\"_blank\" href=\"https://docs.edgeimpulse.com/docs/tutorials/ml-and-data-engineering/ei-python-sdk/python-sdk-eon-tuner\"><img src=\"https://raw.githubusercontent.com/edgeimpulse/notebooks/main/.assets/images/logo-ei-32px.png\" /> View on edgeimpulse.com</a>\n",
    "  </td>\n",
    "  <td>\n",
    "    <a target=\"_blank\" href=\"https://colab.research.google.com/github/edgeimpulse/notebooks/blob/main/notebooks/python-sdk-eon-tuner.ipynb\"><img src=\"https://raw.githubusercontent.com/edgeimpulse/notebooks/main/.assets/images/logo-colab-32px.png\" /> Run in Colab</a>\n",
    "  </td>\n",
    "  <td>\n",
    "    <a target=\"_blank\" href=\"https://github.com/edgeimpulse/notebooks/blob/main/notebooks/python-sdk-eon-tuner.ipynb\"><img src=\"https://raw.githubusercontent.com/edgeimpulse/notebooks/main/.assets/images/logo-github-32px.png\" /> View source on GitHub</a>\n",
    "  </td>\n",
    "  <td>\n",
    "    <a href=\"https://raw.githubusercontent.com/edgeimpulse/notebooks/main/notebooks/python-sdk-eon-tuner.ipynb\" download><img src=\"https://raw.githubusercontent.com/edgeimpulse/notebooks/main/.assets/images/icon-download-32px.png\" /> Download notebook</a>\n",
    "  </td>\n",
    "</table>"
   ]
  },
  {
   "cell_type": "markdown",
   "id": "53f980f3-366e-4811-ae30-a21d6c219aea",
   "metadata": {},
   "source": [
    "The [EON Tuner](https://docs.edgeimpulse.com/docs/edge-impulse-studio/eon-tuner) is Edge Impulse's automated machine learning (AutoML) tool to help you find the best combination of blocks and hyperparameters for your model and within your hardware constraints. This example will walk you through uploading data, running the EON Tuner, and interpreting the results.\n",
    "\n",
    "> **WARNING:** This notebook will add and delete data in your Edge Impulse project, so be careful! We recommend creating a throwaway project when testing this notebook.\n",
    "\n",
    "To start, create a new project in Edge Impulse. Do not add any data to it."
   ]
  },
  {
   "cell_type": "code",
   "execution_count": null,
   "id": "280f9aea-c5fa-4fc6-a96d-6589e5e39011",
   "metadata": {},
   "outputs": [],
   "source": [
    "# If you have not done so already, install the following dependencies\n",
    "# !python -m pip install edgeimpulse"
   ]
  },
  {
   "cell_type": "code",
   "execution_count": null,
   "id": "907e02bc-d39f-413e-82c3-f6399d771839",
   "metadata": {},
   "outputs": [],
   "source": [
    "from edgeimpulse.experimental.data import (\n",
    "    upload_directory\n",
    ")\n",
    "from edgeimpulse.experimental.tuner import (\n",
    "    start_tuner,\n",
    "    check_tuner,\n",
    "    tuner_report,\n",
    "    set_impulse_from_trial,\n",
    ")"
   ]
  },
  {
   "cell_type": "markdown",
   "id": "3d58eddb-7677-4ecd-a7d4-d7048cbfab5a",
   "metadata": {},
   "source": [
    "You will need to obtain an API key from an Edge Impulse project. Log into [edgeimpulse.com](https://edgeimpulse.com/) and create a new project. Open the project, navigate to **Dashboard** and click on the **Keys** tab to view your API keys. Double-click on the API key to highlight it, right-click, and select **Copy**.\n",
    "\n",
    "![Copy API key from Edge Impulse project](https://raw.githubusercontent.com/edgeimpulse/notebooks/main/.assets/images/python-sdk-copy-ei-api-key.png)\n",
    "\n",
    "Note that you do not actually need to use the project in the Edge Impulse Studio. We just need the API Key.\n",
    "\n",
    "Paste that API key string in the `ei.API_KEY` value in the following cell:"
   ]
  },
  {
   "cell_type": "code",
   "execution_count": null,
   "id": "71484567-736a-4e22-9068-23a2f90016b2",
   "metadata": {},
   "outputs": [],
   "source": [
    "# Settings\n",
    "ei.API_KEY = \"ei_dae2...\" # Change this to your Edge Impulse API key"
   ]
  },
  {
   "cell_type": "code",
   "execution_count": null,
   "id": "614204f4-6890-414f-8856-56fd035d4c1a",
   "metadata": {},
   "outputs": [],
   "source": [
    "### ~~~---...___DELETE ME!!!___...---~~~\n",
    "ei.API_KEY=\"ei_2fad0f493031e0a1513d04d80916ab6a4db7ef0ad88fdbb1bd9147a92979b3ba\" # replace with your key under dashboard/keys\n",
    "ei.API_ENDPOINT=\"http://localhost:4800/v1\"\n",
    "ei.INGESTION_ENDPOINT=\"http://localhost:4810\""
   ]
  },
  {
   "cell_type": "markdown",
   "id": "fc9d18b1-c3f0-413c-bdd3-ed572b20efc8",
   "metadata": {},
   "source": [
    "## Upload dataset\n",
    "\n",
    "We start by downloading the [continuous motion dataset](https://docs.edgeimpulse.com/docs/pre-built-datasets/continuous-gestures) and uploading it to our project."
   ]
  },
  {
   "cell_type": "code",
   "execution_count": null,
   "id": "80c0bf00-29ed-4ccb-a126-2f21e759313a",
   "metadata": {},
   "outputs": [],
   "source": [
    "# Download and unzip gesture dataset\n",
    "!mkdir -p dataset/\n",
    "!wget -P dataset -q https://cdn.edgeimpulse.com/datasets/gestures.zip\n",
    "!unzip -q dataset/gestures.zip -d dataset/gestures/"
   ]
  },
  {
   "cell_type": "code",
   "execution_count": null,
   "id": "42eea0f4-029d-4894-9f5f-f1e0376e37c4",
   "metadata": {},
   "outputs": [],
   "source": [
    "# Upload training dataset\n",
    "resp = upload_directory(\n",
    "    directory=\"dataset/gestures/training\",\n",
    "    category=\"training\",\n",
    ")\n",
    "print(f\"Uploaded {len(resp.successes)} training samples\")\n",
    "\n",
    "# Upload test dataset\n",
    "resp = upload_directory(\n",
    "    directory=\"dataset/gestures/testing\",\n",
    "    category=\"testing\",\n",
    ")\n",
    "print(f\"Uploaded {len(resp.successes)} testing samples\")"
   ]
  },
  {
   "cell_type": "code",
   "execution_count": null,
   "id": "40ff2db4-35d6-4320-86e5-9d03bb81beda",
   "metadata": {},
   "outputs": [],
   "source": [
    "# Uncomment the following if you want to delete the temporary dataset folder\n",
    "#!rm -rf dataset/"
   ]
  },
  {
   "cell_type": "markdown",
   "id": "cfc9fdb6-acd8-43af-84e3-866eecc1f91a",
   "metadata": {},
   "source": [
    "## Run the Tuner\n",
    "\n",
    "We start the tuner with `check_tuner()` and wait for completion via `check_tuner()`. In this example, we configure the tuner to target for the *alif-hp device*. Since we want to classify the motion, we choose a `classifcation_type` of `classification` and our dataset as motion continous. We constrain our model to a latency of 100ms for running the impulse. \n",
    "\n",
    "> **NOTE:** We set the max trials to 3 here. In a real life situation, you will omit this so the tuner decides the best number of trials.\n",
    "\n",
    "Once the tuner is done, you can print out the results to determine the best combination of blocks and hyperparameters."
   ]
  },
  {
   "cell_type": "code",
   "execution_count": null,
   "id": "6454ad7f-c0f7-42f8-aafd-384b3c8bef30",
   "metadata": {},
   "outputs": [],
   "source": [
    "# Start tuner\n",
    "start_tuner(\n",
    "    target_device=\"alif-hp\",\n",
    "    classification_type=\"classification\",\n",
    "    dataset_category=\"motion_continuous\",\n",
    "    target_latency=100,\n",
    "    tuning_max_trials=3,\n",
    ")\n",
    "\n",
    "# Wait while checking the tuner's progress. This could take a few minutes.\n",
    "state = check_tuner(\n",
    "    wait_for_completion=True\n",
    ")"
   ]
  },
  {
   "cell_type": "markdown",
   "id": "2695b5b8-2e7e-4d03-b9d0-59d44b53562e",
   "metadata": {},
   "source": [
    "## Print EON Tuner results\n",
    "\n",
    "The configuration settings and output of the EON Tuner is stored in the variable `state`. You can access the results of the various trials with `state.trials`. Note that some trials can fail, so it's a good idea to test the status of each trial.\n",
    "\n",
    "From there, you will want to sort the results based on some metric. In this example, we will sort based on float32 test set accuracy from highest to lowest.\n",
    "\n",
    "> Note: Edge Impulse supports only one learning block per project at this time (excluding anomaly detection blocks). As a result, we will use the first learning block (e.g. `learning_blocks[0]`) in the list to extract metrics."
   ]
  },
  {
   "cell_type": "code",
   "execution_count": null,
   "id": "c54ec5cf-14c5-4522-815d-2ac1c6e30ea7",
   "metadata": {},
   "outputs": [],
   "source": [
    "import json"
   ]
  },
  {
   "cell_type": "code",
   "execution_count": null,
   "id": "14c6316a-9ed5-45a6-8c63-faaeadb30d3e",
   "metadata": {},
   "outputs": [],
   "source": [
    "# Set quantization (\"float32\" or \"int8\")\n",
    "qtzn = \"int8\"\n",
    "\n",
    "# Filter out all failed trials\n",
    "results = [r for r in state.trials if r.status == \"completed\"]\n",
    "\n",
    "# Extract float32 accuracies from the trial results\n",
    "accuracies = []\n",
    "for result in results:\n",
    "    accuracy = result.impulse.learn_blocks[0][\"metrics\"][\"test\"][qtzn][\"accuracy\"]\n",
    "    accuracies.append(accuracy)\n",
    "\n",
    "# Sort the results based on float32 accuracies\n",
    "acc_results = zip(accuracies, results)\n",
    "sorted_results = sorted(acc_results, reverse=True, key=lambda x: list(x)[0])\n",
    "sorted_results = [result for _, result in sorted_results]"
   ]
  },
  {
   "cell_type": "markdown",
   "id": "75a74e14-abe5-4aac-972a-d45f446f6e4a",
   "metadata": {},
   "source": [
    "Now that we have the sorted results, we can extract the values we care about. We will print out the following metrics along with the impulse configuration (processing/learning block configuration and hyperparameters) of the top-performing trial.\n",
    "\n",
    "This will help you determine if the impulse can fit on your target hardware and run fast enough for your needs. The impulse configuration can be used to recreate the processing and learning blocks on Edge Impulse. That being said, you will not need to do so manually! Later, we will set the project impulse based on the trial ID to simply deploy (rather than re-train).\n",
    "\n",
    "> **Note:** we assume the first learning block has the metrics we care about."
   ]
  },
  {
   "cell_type": "code",
   "execution_count": null,
   "id": "f5dcfb32-9cf1-4821-814b-85fef5474ae4",
   "metadata": {},
   "outputs": [],
   "source": [
    "print(json.dumps(qtzn_metadata[0][\"memory\"], indent=2))"
   ]
  },
  {
   "cell_type": "code",
   "execution_count": null,
   "id": "da8f18f2-9be0-46c5-84f8-1ba6b5678247",
   "metadata": {},
   "outputs": [],
   "source": [
    "learn_metadata = sorted_results[trial_idx].impulse.learn_blocks[0][\"metadata\"]\n",
    "qtzn_metadata = [m for m in learn_metadata[\"modelValidationMetrics\"] if m.get(\"type\") == qtzn]\n",
    "tflite_ram = qtzn_metadata[0][\"memory\"][\"tflite\"][\"ram\"]\n",
    "tflite_rom = qtzn_metadata[0][\"memory\"][\"tflite\"][\"rom\"]\n",
    "eon_ram = qtzn_metadata[0][\"memory\"][\"eon\"][\"ram\"]\n",
    "eon_rom = qtzn_metadata[0][\"memory\"][\"eon\"][\"rom\"]"
   ]
  },
  {
   "cell_type": "code",
   "execution_count": null,
   "id": "e6bf3855-21ff-4514-9dd8-4590419c0231",
   "metadata": {},
   "outputs": [],
   "source": [
    "# The top performing impulse is the first element\n",
    "# Note that \"top performing\" is the highest float32 accuracy on the test set\n",
    "trial_idx = 0\n",
    "\n",
    "# Print info about the processing (DSP) blocks and store RAM usage\n",
    "dsp_ram = 0\n",
    "print(\"Processing blocks\")\n",
    "print(\"===\")\n",
    "for i, dsp_block in enumerate(sorted_results[trial_idx].impulse.dsp_blocks):\n",
    "    print(f\"Processing block {i}\")\n",
    "    print(\"---\")\n",
    "    print(\"Block:\")\n",
    "    print(json.dumps(dsp_block[\"block\"], indent=2))\n",
    "    print(\"Config:\")\n",
    "    print(json.dumps(dsp_block[\"config\"], indent=2))\n",
    "    dsp_ram += dsp_block[\"estimatedPerformance\"][\"ram\"]\n",
    "print()\n",
    "\n",
    "# Print info about the learning blocks and store RAM/ROM usage\n",
    "tflite_ram = 0\n",
    "tflite_rom = 0\n",
    "eon_ram = 0\n",
    "eon_rom = 0\n",
    "print(\"Learning blocks\")\n",
    "print(\"===\")\n",
    "for i, learn_block in enumerate(sorted_results[trial_idx].impulse.learn_blocks):\n",
    "    print(f\"Learn block {i}\")\n",
    "    print(\"---\")\n",
    "    print(\"Block:\")\n",
    "    print(json.dumps(learn_block[\"block\"], indent=2))\n",
    "    print(\"Config:\")\n",
    "    print(json.dumps(learn_block[\"config\"], indent=2))\n",
    "    metadata = learn_block[\"metadata\"]\n",
    "    qtzn_metadata = [m for m in metadata[\"modelValidationMetrics\"] if m.get(\"type\") == qtzn]\n",
    "    tflite_ram += qtzn_metadata[0][\"memory\"][\"tflite\"][\"ram\"]\n",
    "    tflite_rom += qtzn_metadata[0][\"memory\"][\"tflite\"][\"rom\"]\n",
    "    eon_ram += qtzn_metadata[0][\"memory\"][\"eon\"][\"ram\"]\n",
    "    eon_rom += qtzn_metadata[0][\"memory\"][\"eon\"][\"rom\"]\n",
    "print()\n",
    "\n",
    "# Print the metrics\n",
    "print(f\"Metrics ({qtzn})\")\n",
    "print(\"===\")\n",
    "metrics = sorted_results[trial_idx].impulse.learn_blocks[0][\"metrics\"]\n",
    "print(f\"Validation accuracy: {metrics['validation'][qtzn]['accuracy']}\")\n",
    "print(f\"Test accuracy: {metrics['test'][qtzn]['accuracy']}\")\n",
    "print(f\"Estimated processing blocks RAM (bytes): {dsp_ram}\")\n",
    "print(f\"Estimated learning blocks RAM (bytes): {tflite_ram}\")\n",
    "print(f\"Estimated learning blocks ROM (bytes): {tflite_rom}\")\n",
    "print(f\"Estimated learning blocks RAM with EON Compiler (bytes): {eon_ram}\")\n",
    "print(f\"Estimated learning blocks ROM with EON Compiler (bytes): {eon_rom}\")\n",
    "print()\n",
    "\n",
    "### TODO: PRINT LATENCY ESTIMATES!!!"
   ]
  },
  {
   "cell_type": "markdown",
   "id": "33cf1f9e-b3a2-4352-a195-0bb33a467e15",
   "metadata": {},
   "source": [
    "## Results as a DataFrame\n",
    "\n",
    "If you have [pandas](https://pandas.pydata.org/) installed, you can make the previous section much easier by reporting metrics as a DataFrame."
   ]
  },
  {
   "cell_type": "code",
   "execution_count": null,
   "id": "fd19c9c5-41d6-4662-b4f2-3bb31e1ca0a8",
   "metadata": {},
   "outputs": [],
   "source": [
    "# Convert the state metrics into a DataFrame\n",
    "df = tuner_report(state)\n",
    "df.head()"
   ]
  },
  {
   "cell_type": "code",
   "execution_count": null,
   "id": "5007aab3-095f-4070-b5b8-51564fe9426a",
   "metadata": {},
   "outputs": [],
   "source": [
    "# Sort the DataFrame by validation (int8) accuracy and print out best trial\n",
    "df = df.sort_values(by='val_int8_accuracy', ascending=False)\n",
    "df.iloc[0]"
   ]
  },
  {
   "cell_type": "markdown",
   "id": "e952e100-4cf0-454a-8033-400e831367c1",
   "metadata": {},
   "source": [
    "## Set trial as impulse and deploy\n",
    "\n",
    "We can replace the current impulse with the top performing trial from the EON Tuner. From there, we can deploy it, just like we would any impulse."
   ]
  },
  {
   "cell_type": "code",
   "execution_count": null,
   "id": "31888f29-194c-4ccb-b3ca-6300f1179811",
   "metadata": {},
   "outputs": [],
   "source": [
    "# Get the trial ID and set that to our impulse\n",
    "trial_id = df.iloc[0].trial_id\n",
    "set_impulse_from_trial(trial_id)"
   ]
  },
  {
   "cell_type": "code",
   "execution_count": null,
   "id": "5273e4f9-abaa-4bea-8972-a865d6f94a3b",
   "metadata": {},
   "outputs": [],
   "source": []
  }
 ],
 "metadata": {
  "kernelspec": {
   "display_name": "Python 3 (ipykernel)",
   "language": "python",
   "name": "python3"
  },
  "language_info": {
   "codemirror_mode": {
    "name": "ipython",
    "version": 3
   },
   "file_extension": ".py",
   "mimetype": "text/x-python",
   "name": "python",
   "nbconvert_exporter": "python",
   "pygments_lexer": "ipython3",
   "version": "3.8.16"
  }
 },
 "nbformat": 4,
 "nbformat_minor": 5
}
