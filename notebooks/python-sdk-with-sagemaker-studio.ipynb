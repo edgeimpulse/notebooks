{
 "cells": [
  {
   "cell_type": "markdown",
   "id": "8d730d2d-c6dd-4c40-bb16-1f0cba9afc4a",
   "metadata": {},
   "source": [
    "# Using the Edge Impulse Python SDK with SageMaker Studio\n",
    "\n",
    "<!--- Do not modify the markdown for this example directly! It is generated from a notebook in https://github.com/edgeimpulse/notebooks --->"
   ]
  },
  {
   "cell_type": "markdown",
   "id": "90c2c25d-7493-44a5-9765-f8c944dc2e9c",
   "metadata": {},
   "source": [
    "[![View in Edge Impulse docs](https://raw.githubusercontent.com/edgeimpulse/notebooks/main/.assets/images/ei-badge.svg)](https://docs.edgeimpulse.com/docs/edge-impulse-python-sdk/python-sdk-with-sagemaker-studio)\n",
    "[![View on GitHub](https://raw.githubusercontent.com/edgeimpulse/notebooks/main/.assets/images/badge-view-on-github.svg)](https://github.com/edgeimpulse/notebooks/blob/main/notebooks/python-sdk-with-sagemaker-studio.ipynb)\n",
    "[![Download notebook](https://raw.githubusercontent.com/edgeimpulse/notebooks/main/.assets/images/badge-download-notebook.svg)](https://raw.githubusercontent.com/edgeimpulse/notebooks/main/notebooks/python-sdk-with-sagemaker-studio.ipynb) "
   ]
  },
  {
   "attachments": {},
   "cell_type": "markdown",
   "id": "8edef800-3a91-46c0-836b-42e0518241ad",
   "metadata": {},
   "source": [
    "Amazon SageMaker Studio is an integrated development environment (IDE) that provides a single web-based visual interface where you can access purpose-built tools to perform all machine learning (ML) development steps, from preparing data to building, training, and deploying your ML models, improving data science team productivity by up to 10x. You can quickly upload data, create new notebooks, train and tune models, move back and forth between steps to adjust experiments, collaborate seamlessly within your organization, and deploy models to production without leaving SageMaker Studio.\n",
    "\n",
    "![SageMaker Studio](https://raw.githubusercontent.com/edgeimpulse/notebooks/main/.assets/images/python-sdk-sagemaker-studio.png)\n",
    "\n",
    "To learn more about using the Python SDK, please see: [Edge Impulse Python SDK Overview](https://docs.edgeimpulse.com/docs/edge-impulse-python-sdk/overview).\n",
    "\n",
    "This guide has been built from AWS reference project **Introduction to SageMaker TensorFlow - Image Classification**, please have a look at this [AWS documentation page](https://docs.aws.amazon.com/sagemaker/latest/dg/image-classification-tensorflow.html). \n",
    "\n",
    "Below are the changes made to the original training script and configuration:\n",
    "\n",
    "- The `Python 3 (Data Science 3.0)` kernel was used.\n",
    "- The dataset has been changed to classify images as `car` vs `unknown`.  You can download the dataset from this Edge Impulse [public project](https://studio.edgeimpulse.com/public/210613/latest) and store it in your S3 bucket.\n",
    "- The dataset has been imported in the Edge Impulse S3 bucket configured when creating the SageMaker Studio domain. Make sure to adapt to your path or use the AWS reference project.\n",
    "- The training instance used is `ml.m5.large`."
   ]
  },
  {
   "attachments": {},
   "cell_type": "markdown",
   "id": "6caec400",
   "metadata": {},
   "source": [
    "<div align=\"center\">\n",
    "    <iframe width=\"560\" height=\"315\"\n",
    "    src=\"https://youtube.com/embed/r1XxGcKDR6M\"\n",
    "    </iframe>\n",
    "</div>"
   ]
  },
  {
   "attachments": {},
   "cell_type": "markdown",
   "id": "a5b28851-f105-4661-8b06-2e9c630f92ce",
   "metadata": {},
   "source": [
    "## Install dependencies "
   ]
  },
  {
   "cell_type": "code",
   "execution_count": null,
   "id": "113f7a9b-e327-4ba0-86f3-63bac15b5e75",
   "metadata": {
    "tags": []
   },
   "outputs": [],
   "source": [
    "# If you have not done so already, install the following dependencies\n",
    "!python -m pip install tensorflow==2.12.0 edgeimpulse"
   ]
  },
  {
   "attachments": {},
   "cell_type": "markdown",
   "id": "869b543d-2e8d-40c2-90fe-1c259d3f8c7b",
   "metadata": {
    "tags": []
   },
   "source": [
    "## Transfer Learning"
   ]
  },
  {
   "attachments": {},
   "cell_type": "markdown",
   "id": "0ea0d529-eaad-4b61-9beb-ed683bff8888",
   "metadata": {},
   "source": [
    "### Dataset\n",
    "\n",
    "Below is the structure of our dataset in our S3 bucket\n",
    "\n",
    "```\n",
    "car-vs-unknown\n",
    "    |--training\n",
    "        |--car\n",
    "            |--abc.jpg\n",
    "            |--def.jpg\n",
    "        |--unknown\n",
    "            |--ghi.jpg\n",
    "            |--jkl.jpg\n",
    "    |--testing\n",
    "            |--car\n",
    "                |--mno.jpg\n",
    "                |--prs.jpg\n",
    "            |--unknown\n",
    "                |--tuv.jpg\n",
    "                |--wxy.jpg\n",
    "```\n",
    "\n",
    "We have used the default bucket created when configuring SageMaker Studio domain:\n",
    "\n",
    "![S3 Bucket overview](https://raw.githubusercontent.com/edgeimpulse/notebooks/main/.assets/images/python-sdk-s3-bucket-cars.png)"
   ]
  },
  {
   "cell_type": "code",
   "execution_count": null,
   "id": "61cdb62a-42c5-4f3a-b769-1e56fc49d0b0",
   "metadata": {
    "tags": []
   },
   "outputs": [],
   "source": [
    "import sagemaker, boto3, json\n",
    "from sagemaker.session import Session\n",
    "\n",
    "sagemaker_session = Session()\n",
    "aws_role = sagemaker_session.get_caller_identity_arn()\n",
    "aws_region = boto3.Session().region_name\n",
    "print(aws_region)\n",
    "sess = sagemaker.Session()"
   ]
  },
  {
   "cell_type": "code",
   "execution_count": null,
   "id": "d2ecb658-a487-43b6-8d73-549282f75df7",
   "metadata": {
    "tags": []
   },
   "outputs": [],
   "source": [
    "bucket = sess.default_bucket()\n",
    "subfolder = 'car-vs-unknown/training/'\n",
    "\n",
    "s3 = boto3.client('s3')\n",
    "files = s3.list_objects(Bucket=bucket, Prefix=subfolder)['Contents']\n",
    "print(f\"Number of images: {len(files)}\")\n",
    "# or print the files\n",
    "# for f in files:\n",
    "#     print(f['Key'])"
   ]
  },
  {
   "attachments": {},
   "cell_type": "markdown",
   "id": "4e9525d4-9631-4573-a368-b6fa95ebaa1a",
   "metadata": {},
   "source": [
    "### Train"
   ]
  },
  {
   "attachments": {},
   "cell_type": "markdown",
   "id": "1a2454eb-9991-4130-bd72-8f7b143ca96c",
   "metadata": {},
   "source": [
    "You can continue with the default model, or can choose a different model from the list. Note that this tutorial has been tested with MobileNetv2 based models.\n",
    "A complete list of SageMaker pre-trained models can also be accessed at [Sagemaker pre-trained Models](https://sagemaker.readthedocs.io/en/stable/doc_utils/pretrainedmodels.html#)."
   ]
  },
  {
   "cell_type": "code",
   "execution_count": null,
   "id": "4043993e-0edf-41ac-887b-3485e967cbcd",
   "metadata": {
    "tags": []
   },
   "outputs": [],
   "source": [
    "from sagemaker.jumpstart.notebook_utils import list_jumpstart_models\n",
    "\n",
    "# Retrieves all image classification models available by SageMaker Built-In Algorithms.\n",
    "filter_value = \"task in ['ic']\"\n",
    "ic_models = list_jumpstart_models(filter=filter_value)\n",
    "# od_models = list_jumpstart_models()\n",
    "\n",
    "print(f\"Number of models available for inference: {len(ic_models)}\")\n",
    "\n",
    "# display the model-ids.\n",
    "for model in ic_models:\n",
    "    print(model)"
   ]
  },
  {
   "cell_type": "code",
   "execution_count": null,
   "id": "de8fab40-2a4e-4a59-9221-f736124e4c40",
   "metadata": {
    "tags": []
   },
   "outputs": [],
   "source": [
    "from sagemaker import image_uris, model_uris\n",
    "\n",
    "model_id, model_version = \"tensorflow-ic-imagenet-mobilenet-v3-small-075-224\", \"*\" # You can change the based model with one from the list generated above\n",
    "\n",
    "# Retrieve the base model uri\n",
    "base_model_uri = model_uris.retrieve( model_id=model_id, model_version=model_version, model_scope=\"inference\")\n",
    "\n",
    "print(base_model_uri)"
   ]
  },
  {
   "attachments": {},
   "cell_type": "markdown",
   "id": "01b2a8aa-e2e8-45ed-9759-cd3c5e549ac4",
   "metadata": {},
   "source": [
    "*Optional*, ship this next cell if you don't want to retrain the model. And uncomment the last line of the cell after"
   ]
  },
  {
   "cell_type": "code",
   "execution_count": null,
   "id": "58aaac60-9853-4fc0-8135-ea93114e895e",
   "metadata": {
    "tags": []
   },
   "outputs": [],
   "source": [
    "from sagemaker import image_uris, model_uris, script_uris, hyperparameters\n",
    "from sagemaker.estimator import Estimator\n",
    "\n",
    "training_instance_type = \"ml.m5.large\"\n",
    "\n",
    "# Retrieve the Docker image\n",
    "train_image_uri = image_uris.retrieve(model_id=model_id,model_version=model_version,image_scope=\"training\",instance_type=training_instance_type,region=None,framework=None)\n",
    "\n",
    "# Retrieve the training script\n",
    "train_source_uri = script_uris.retrieve(model_id=model_id, model_version=model_version, script_scope=\"training\")\n",
    "\n",
    "# Retrieve the pretrained model tarball for transfer learning\n",
    "train_model_uri = model_uris.retrieve(model_id=model_id, model_version=model_version, model_scope=\"training\")\n",
    "\n",
    "# Retrieve the default hyper-parameters for fine-tuning the model\n",
    "hyperparameters = hyperparameters.retrieve_default(model_id=model_id, model_version=model_version)\n",
    "\n",
    "# [Optional] Override default hyperparameters with custom values\n",
    "hyperparameters[\"epochs\"] = \"5\"\n",
    "\n",
    "# The sample training data is available in the following S3 bucket\n",
    "training_data_bucket = f\"{bucket}\"\n",
    "training_data_prefix = f\"{subfolder}\"\n",
    "# training_data_bucket = f\"jumpstart-cache-prod-{aws_region}\"\n",
    "# training_data_prefix = \"training-datasets/tf_flowers/\"\n",
    "\n",
    "training_dataset_s3_path = f\"s3://{training_data_bucket}/{training_data_prefix}\"\n",
    "\n",
    "output_bucket = sess.default_bucket()\n",
    "output_prefix = \"ic-car-vs-unknown\"\n",
    "s3_output_location = f\"s3://{output_bucket}/{output_prefix}/output\"\n",
    "\n",
    "# Create SageMaker Estimator instance\n",
    "tf_ic_estimator = Estimator(\n",
    "    role=aws_role,\n",
    "    image_uri=train_image_uri,\n",
    "    source_dir=train_source_uri,\n",
    "    model_uri=train_model_uri,\n",
    "    entry_point=\"transfer_learning.py\",\n",
    "    instance_count=1,\n",
    "    instance_type=training_instance_type,\n",
    "    max_run=360000,\n",
    "    hyperparameters=hyperparameters,\n",
    "    output_path=s3_output_location\n",
    ")\n",
    "\n",
    "# Use S3 path of the training data to launch SageMaker TrainingJob\n",
    "tf_ic_estimator.fit({\"training\": training_dataset_s3_path}, logs=True)"
   ]
  },
  {
   "attachments": {},
   "cell_type": "markdown",
   "id": "b444a4b2-b3c1-4090-a1b6-10e1832f198a",
   "metadata": {},
   "source": [
    "## Retrieve and prepare the newly trained model "
   ]
  },
  {
   "cell_type": "code",
   "execution_count": null,
   "id": "79d170a6-e606-493c-8e29-a30d74dacf6a",
   "metadata": {
    "tags": []
   },
   "outputs": [],
   "source": [
    "def download_from_s3(url):\n",
    "    # Remove 's3://' prefix from URL\n",
    "    url = url[5:]\n",
    "    # Split URL by '/' to extract bucket name and key\n",
    "    parts = url.split('/')\n",
    "    bucket_name = parts[0]\n",
    "    s3_key = '/'.join(parts[1:])\n",
    "    # Download the file from S3\n",
    "    s3.download_file(bucket_name, s3_key, 'model.tar.gz')\n",
    "\n",
    "# Download\n",
    "trained_model_s3_path = f\"{s3_output_location}/{tf_ic_estimator._current_job_name}/output/model.tar.gz\"\n",
    "print(trained_model_s3_path)\n",
    "download_from_s3(trained_model_s3_path)\n",
    "# or if you just want to use the based model\n",
    "#download_from_s3(base_model_uri)"
   ]
  },
  {
   "cell_type": "code",
   "execution_count": null,
   "id": "d94bc7e0-89a1-4a1c-b569-9dc29e571574",
   "metadata": {
    "tags": []
   },
   "outputs": [],
   "source": [
    "import shutil, os\n",
    "\n",
    "# Extract the .tar.gz file to a temporary directory\n",
    "temp_directory = 'tmp'  # Replace with your actual temporary directory\n",
    "tar_gz_file = 'model.tar.gz'  # Replace with the path to your .tar.gz file\n",
    "\n",
    "# Create directory if does not exist\n",
    "if not os.path.exists(temp_directory):\n",
    "    os.makedirs(temp_directory)\n",
    "\n",
    "shutil.unpack_archive(tar_gz_file, temp_directory)"
   ]
  },
  {
   "cell_type": "code",
   "execution_count": null,
   "id": "cb99acba-08a6-448a-b1d7-1e8276f6c06f",
   "metadata": {
    "tags": []
   },
   "outputs": [],
   "source": [
    "import tensorflow as tf\n",
    "\n",
    "print(tf.__version__)\n",
    "\n",
    "model = tf.keras.models.load_model('tmp/1/')\n",
    "\n",
    "converter = tf.lite.TFLiteConverter.from_keras_model(model)\n",
    "tflite_model = converter.convert()\n",
    "\n",
    "# Save the model.\n",
    "with open('model.tflite', 'wb') as f:\n",
    "  f.write(tflite_model)"
   ]
  },
  {
   "attachments": {},
   "cell_type": "markdown",
   "id": "c24d4f00-351e-43ad-b2f7-29036ff28bdd",
   "metadata": {
    "tags": []
   },
   "source": [
    "## Edge Impulse\n",
    "\n",
    "You will need to obtain an API key from an Edge Impulse project. Log into [edgeimpulse.com](https://edgeimpulse.com/) and create a new project. Open the project, navigate to **Dashboard** and click on the **Keys** tab to view your API keys. Double-click on the API key to highlight it, right-click, and select **Copy**.\n",
    "\n",
    "![Copy API key from Edge Impulse project](https://raw.githubusercontent.com/edgeimpulse/notebooks/main/.assets/images/python-sdk-copy-ei-api-key.png)\n",
    "\n",
    "Note that you do not actually need to use the project in the Edge Impulse Studio. We just need the API Key.\n",
    "\n",
    "Paste that API key string in the `ei.API_KEY` value in the following cell:"
   ]
  },
  {
   "cell_type": "code",
   "execution_count": null,
   "id": "83507be3-889e-473b-8ae8-3e72f2e4cc1f",
   "metadata": {
    "tags": []
   },
   "outputs": [],
   "source": [
    "import edgeimpulse as ei\n",
    "ei.API_KEY = \"ei_0a85c3a5ca92a35ee6f61aab18aadb9d9e167bd152f947f2056a4fb6a60977d8\" # Change to your key"
   ]
  },
  {
   "cell_type": "code",
   "execution_count": null,
   "id": "81817264-5a00-4622-bb20-4fe0045c1b40",
   "metadata": {
    "tags": []
   },
   "outputs": [],
   "source": [
    "ei.model.list_profile_devices()"
   ]
  },
  {
   "cell_type": "code",
   "execution_count": null,
   "id": "705978a7-682a-4715-93ae-a18b3b067e8f",
   "metadata": {
    "tags": []
   },
   "outputs": [],
   "source": [
    "# Estimate the RAM, ROM, and inference time for our model on the target hardware family\n",
    "try:\n",
    "    profile = ei.model.profile(model='model.tflite',\n",
    "                               device='raspberry-pi-4')\n",
    "    print(profile.summary())\n",
    "except Exception as e:\n",
    "    print(f\"Could not profile: {e}\")"
   ]
  },
  {
   "cell_type": "code",
   "execution_count": null,
   "id": "88005d59-4bf9-47da-9212-8b6659b30f48",
   "metadata": {
    "tags": []
   },
   "outputs": [],
   "source": [
    "# List the available profile target devices\n",
    "ei.model.list_deployment_targets()"
   ]
  },
  {
   "cell_type": "code",
   "execution_count": null,
   "id": "bb02a016-d003-4a5c-9887-b923976e8e78",
   "metadata": {
    "tags": []
   },
   "outputs": [],
   "source": [
    "# Get the labels from the label_info.json\n",
    "import json\n",
    "\n",
    "labels_info = open('tmp/labels_info.json')\n",
    "labels_obj = json.load(labels_info)\n",
    "labels = labels_obj['labels']\n",
    "print(labels)"
   ]
  },
  {
   "cell_type": "code",
   "execution_count": null,
   "id": "dcbbcf29-15da-43ba-9381-ddf2bd4a0313",
   "metadata": {
    "tags": []
   },
   "outputs": [],
   "source": [
    "# Set model information, such as your list of labels\n",
    "model_output_type = ei.model.output_type.Classification(labels=labels)\n",
    "deploy_filename = \"my_model_cpp.zip\"\n",
    "\n",
    "# Create C++ library with trained model\n",
    "deploy_bytes = None\n",
    "try:\n",
    "    \n",
    "    deploy_bytes = ei.model.deploy(model=model,\n",
    "                                   model_output_type=model_output_type,\n",
    "                                   engine='tflite',\n",
    "                                   deploy_target='zip\"')\n",
    "except Exception as e:\n",
    "    print(f\"Could not deploy: {e}\")\n",
    "    \n",
    "# Write the downloaded raw bytes to a file\n",
    "if deploy_bytes:\n",
    "    with open(deploy_filename, 'wb') as f:\n",
    "        f.write(deploy_bytes)"
   ]
  },
  {
   "attachments": {},
   "cell_type": "markdown",
   "id": "a6684fa9-84e3-44ff-9e5f-383d0a03bb94",
   "metadata": {},
   "source": [
    "Voila! \n",
    "You now have a C++ library ready to be compiled and integrated in your embedded targets. Feel free to have a look at Edge Impulse deployment options on the [documentation](https://docs.edgeimpulse.com/docs/deployment/running-your-impulse-locally) to understand how you can integrate that to your embedded systems.\n",
    "\n",
    "You can also have a look at the deployment page of your project to test your model on a web browser or test "
   ]
  }
 ],
 "metadata": {
  "availableInstances": [
   {
    "_defaultOrder": 0,
    "_isFastLaunch": true,
    "category": "General purpose",
    "gpuNum": 0,
    "hideHardwareSpecs": false,
    "memoryGiB": 4,
    "name": "ml.t3.medium",
    "vcpuNum": 2
   },
   {
    "_defaultOrder": 1,
    "_isFastLaunch": false,
    "category": "General purpose",
    "gpuNum": 0,
    "hideHardwareSpecs": false,
    "memoryGiB": 8,
    "name": "ml.t3.large",
    "vcpuNum": 2
   },
   {
    "_defaultOrder": 2,
    "_isFastLaunch": false,
    "category": "General purpose",
    "gpuNum": 0,
    "hideHardwareSpecs": false,
    "memoryGiB": 16,
    "name": "ml.t3.xlarge",
    "vcpuNum": 4
   },
   {
    "_defaultOrder": 3,
    "_isFastLaunch": false,
    "category": "General purpose",
    "gpuNum": 0,
    "hideHardwareSpecs": false,
    "memoryGiB": 32,
    "name": "ml.t3.2xlarge",
    "vcpuNum": 8
   },
   {
    "_defaultOrder": 4,
    "_isFastLaunch": true,
    "category": "General purpose",
    "gpuNum": 0,
    "hideHardwareSpecs": false,
    "memoryGiB": 8,
    "name": "ml.m5.large",
    "vcpuNum": 2
   },
   {
    "_defaultOrder": 5,
    "_isFastLaunch": false,
    "category": "General purpose",
    "gpuNum": 0,
    "hideHardwareSpecs": false,
    "memoryGiB": 16,
    "name": "ml.m5.xlarge",
    "vcpuNum": 4
   },
   {
    "_defaultOrder": 6,
    "_isFastLaunch": false,
    "category": "General purpose",
    "gpuNum": 0,
    "hideHardwareSpecs": false,
    "memoryGiB": 32,
    "name": "ml.m5.2xlarge",
    "vcpuNum": 8
   },
   {
    "_defaultOrder": 7,
    "_isFastLaunch": false,
    "category": "General purpose",
    "gpuNum": 0,
    "hideHardwareSpecs": false,
    "memoryGiB": 64,
    "name": "ml.m5.4xlarge",
    "vcpuNum": 16
   },
   {
    "_defaultOrder": 8,
    "_isFastLaunch": false,
    "category": "General purpose",
    "gpuNum": 0,
    "hideHardwareSpecs": false,
    "memoryGiB": 128,
    "name": "ml.m5.8xlarge",
    "vcpuNum": 32
   },
   {
    "_defaultOrder": 9,
    "_isFastLaunch": false,
    "category": "General purpose",
    "gpuNum": 0,
    "hideHardwareSpecs": false,
    "memoryGiB": 192,
    "name": "ml.m5.12xlarge",
    "vcpuNum": 48
   },
   {
    "_defaultOrder": 10,
    "_isFastLaunch": false,
    "category": "General purpose",
    "gpuNum": 0,
    "hideHardwareSpecs": false,
    "memoryGiB": 256,
    "name": "ml.m5.16xlarge",
    "vcpuNum": 64
   },
   {
    "_defaultOrder": 11,
    "_isFastLaunch": false,
    "category": "General purpose",
    "gpuNum": 0,
    "hideHardwareSpecs": false,
    "memoryGiB": 384,
    "name": "ml.m5.24xlarge",
    "vcpuNum": 96
   },
   {
    "_defaultOrder": 12,
    "_isFastLaunch": false,
    "category": "General purpose",
    "gpuNum": 0,
    "hideHardwareSpecs": false,
    "memoryGiB": 8,
    "name": "ml.m5d.large",
    "vcpuNum": 2
   },
   {
    "_defaultOrder": 13,
    "_isFastLaunch": false,
    "category": "General purpose",
    "gpuNum": 0,
    "hideHardwareSpecs": false,
    "memoryGiB": 16,
    "name": "ml.m5d.xlarge",
    "vcpuNum": 4
   },
   {
    "_defaultOrder": 14,
    "_isFastLaunch": false,
    "category": "General purpose",
    "gpuNum": 0,
    "hideHardwareSpecs": false,
    "memoryGiB": 32,
    "name": "ml.m5d.2xlarge",
    "vcpuNum": 8
   },
   {
    "_defaultOrder": 15,
    "_isFastLaunch": false,
    "category": "General purpose",
    "gpuNum": 0,
    "hideHardwareSpecs": false,
    "memoryGiB": 64,
    "name": "ml.m5d.4xlarge",
    "vcpuNum": 16
   },
   {
    "_defaultOrder": 16,
    "_isFastLaunch": false,
    "category": "General purpose",
    "gpuNum": 0,
    "hideHardwareSpecs": false,
    "memoryGiB": 128,
    "name": "ml.m5d.8xlarge",
    "vcpuNum": 32
   },
   {
    "_defaultOrder": 17,
    "_isFastLaunch": false,
    "category": "General purpose",
    "gpuNum": 0,
    "hideHardwareSpecs": false,
    "memoryGiB": 192,
    "name": "ml.m5d.12xlarge",
    "vcpuNum": 48
   },
   {
    "_defaultOrder": 18,
    "_isFastLaunch": false,
    "category": "General purpose",
    "gpuNum": 0,
    "hideHardwareSpecs": false,
    "memoryGiB": 256,
    "name": "ml.m5d.16xlarge",
    "vcpuNum": 64
   },
   {
    "_defaultOrder": 19,
    "_isFastLaunch": false,
    "category": "General purpose",
    "gpuNum": 0,
    "hideHardwareSpecs": false,
    "memoryGiB": 384,
    "name": "ml.m5d.24xlarge",
    "vcpuNum": 96
   },
   {
    "_defaultOrder": 20,
    "_isFastLaunch": false,
    "category": "General purpose",
    "gpuNum": 0,
    "hideHardwareSpecs": true,
    "memoryGiB": 0,
    "name": "ml.geospatial.interactive",
    "supportedImageNames": [
     "sagemaker-geospatial-v1-0"
    ],
    "vcpuNum": 0
   },
   {
    "_defaultOrder": 21,
    "_isFastLaunch": true,
    "category": "Compute optimized",
    "gpuNum": 0,
    "hideHardwareSpecs": false,
    "memoryGiB": 4,
    "name": "ml.c5.large",
    "vcpuNum": 2
   },
   {
    "_defaultOrder": 22,
    "_isFastLaunch": false,
    "category": "Compute optimized",
    "gpuNum": 0,
    "hideHardwareSpecs": false,
    "memoryGiB": 8,
    "name": "ml.c5.xlarge",
    "vcpuNum": 4
   },
   {
    "_defaultOrder": 23,
    "_isFastLaunch": false,
    "category": "Compute optimized",
    "gpuNum": 0,
    "hideHardwareSpecs": false,
    "memoryGiB": 16,
    "name": "ml.c5.2xlarge",
    "vcpuNum": 8
   },
   {
    "_defaultOrder": 24,
    "_isFastLaunch": false,
    "category": "Compute optimized",
    "gpuNum": 0,
    "hideHardwareSpecs": false,
    "memoryGiB": 32,
    "name": "ml.c5.4xlarge",
    "vcpuNum": 16
   },
   {
    "_defaultOrder": 25,
    "_isFastLaunch": false,
    "category": "Compute optimized",
    "gpuNum": 0,
    "hideHardwareSpecs": false,
    "memoryGiB": 72,
    "name": "ml.c5.9xlarge",
    "vcpuNum": 36
   },
   {
    "_defaultOrder": 26,
    "_isFastLaunch": false,
    "category": "Compute optimized",
    "gpuNum": 0,
    "hideHardwareSpecs": false,
    "memoryGiB": 96,
    "name": "ml.c5.12xlarge",
    "vcpuNum": 48
   },
   {
    "_defaultOrder": 27,
    "_isFastLaunch": false,
    "category": "Compute optimized",
    "gpuNum": 0,
    "hideHardwareSpecs": false,
    "memoryGiB": 144,
    "name": "ml.c5.18xlarge",
    "vcpuNum": 72
   },
   {
    "_defaultOrder": 28,
    "_isFastLaunch": false,
    "category": "Compute optimized",
    "gpuNum": 0,
    "hideHardwareSpecs": false,
    "memoryGiB": 192,
    "name": "ml.c5.24xlarge",
    "vcpuNum": 96
   },
   {
    "_defaultOrder": 29,
    "_isFastLaunch": true,
    "category": "Accelerated computing",
    "gpuNum": 1,
    "hideHardwareSpecs": false,
    "memoryGiB": 16,
    "name": "ml.g4dn.xlarge",
    "vcpuNum": 4
   },
   {
    "_defaultOrder": 30,
    "_isFastLaunch": false,
    "category": "Accelerated computing",
    "gpuNum": 1,
    "hideHardwareSpecs": false,
    "memoryGiB": 32,
    "name": "ml.g4dn.2xlarge",
    "vcpuNum": 8
   },
   {
    "_defaultOrder": 31,
    "_isFastLaunch": false,
    "category": "Accelerated computing",
    "gpuNum": 1,
    "hideHardwareSpecs": false,
    "memoryGiB": 64,
    "name": "ml.g4dn.4xlarge",
    "vcpuNum": 16
   },
   {
    "_defaultOrder": 32,
    "_isFastLaunch": false,
    "category": "Accelerated computing",
    "gpuNum": 1,
    "hideHardwareSpecs": false,
    "memoryGiB": 128,
    "name": "ml.g4dn.8xlarge",
    "vcpuNum": 32
   },
   {
    "_defaultOrder": 33,
    "_isFastLaunch": false,
    "category": "Accelerated computing",
    "gpuNum": 4,
    "hideHardwareSpecs": false,
    "memoryGiB": 192,
    "name": "ml.g4dn.12xlarge",
    "vcpuNum": 48
   },
   {
    "_defaultOrder": 34,
    "_isFastLaunch": false,
    "category": "Accelerated computing",
    "gpuNum": 1,
    "hideHardwareSpecs": false,
    "memoryGiB": 256,
    "name": "ml.g4dn.16xlarge",
    "vcpuNum": 64
   },
   {
    "_defaultOrder": 35,
    "_isFastLaunch": false,
    "category": "Accelerated computing",
    "gpuNum": 1,
    "hideHardwareSpecs": false,
    "memoryGiB": 61,
    "name": "ml.p3.2xlarge",
    "vcpuNum": 8
   },
   {
    "_defaultOrder": 36,
    "_isFastLaunch": false,
    "category": "Accelerated computing",
    "gpuNum": 4,
    "hideHardwareSpecs": false,
    "memoryGiB": 244,
    "name": "ml.p3.8xlarge",
    "vcpuNum": 32
   },
   {
    "_defaultOrder": 37,
    "_isFastLaunch": false,
    "category": "Accelerated computing",
    "gpuNum": 8,
    "hideHardwareSpecs": false,
    "memoryGiB": 488,
    "name": "ml.p3.16xlarge",
    "vcpuNum": 64
   },
   {
    "_defaultOrder": 38,
    "_isFastLaunch": false,
    "category": "Accelerated computing",
    "gpuNum": 8,
    "hideHardwareSpecs": false,
    "memoryGiB": 768,
    "name": "ml.p3dn.24xlarge",
    "vcpuNum": 96
   },
   {
    "_defaultOrder": 39,
    "_isFastLaunch": false,
    "category": "Memory Optimized",
    "gpuNum": 0,
    "hideHardwareSpecs": false,
    "memoryGiB": 16,
    "name": "ml.r5.large",
    "vcpuNum": 2
   },
   {
    "_defaultOrder": 40,
    "_isFastLaunch": false,
    "category": "Memory Optimized",
    "gpuNum": 0,
    "hideHardwareSpecs": false,
    "memoryGiB": 32,
    "name": "ml.r5.xlarge",
    "vcpuNum": 4
   },
   {
    "_defaultOrder": 41,
    "_isFastLaunch": false,
    "category": "Memory Optimized",
    "gpuNum": 0,
    "hideHardwareSpecs": false,
    "memoryGiB": 64,
    "name": "ml.r5.2xlarge",
    "vcpuNum": 8
   },
   {
    "_defaultOrder": 42,
    "_isFastLaunch": false,
    "category": "Memory Optimized",
    "gpuNum": 0,
    "hideHardwareSpecs": false,
    "memoryGiB": 128,
    "name": "ml.r5.4xlarge",
    "vcpuNum": 16
   },
   {
    "_defaultOrder": 43,
    "_isFastLaunch": false,
    "category": "Memory Optimized",
    "gpuNum": 0,
    "hideHardwareSpecs": false,
    "memoryGiB": 256,
    "name": "ml.r5.8xlarge",
    "vcpuNum": 32
   },
   {
    "_defaultOrder": 44,
    "_isFastLaunch": false,
    "category": "Memory Optimized",
    "gpuNum": 0,
    "hideHardwareSpecs": false,
    "memoryGiB": 384,
    "name": "ml.r5.12xlarge",
    "vcpuNum": 48
   },
   {
    "_defaultOrder": 45,
    "_isFastLaunch": false,
    "category": "Memory Optimized",
    "gpuNum": 0,
    "hideHardwareSpecs": false,
    "memoryGiB": 512,
    "name": "ml.r5.16xlarge",
    "vcpuNum": 64
   },
   {
    "_defaultOrder": 46,
    "_isFastLaunch": false,
    "category": "Memory Optimized",
    "gpuNum": 0,
    "hideHardwareSpecs": false,
    "memoryGiB": 768,
    "name": "ml.r5.24xlarge",
    "vcpuNum": 96
   },
   {
    "_defaultOrder": 47,
    "_isFastLaunch": false,
    "category": "Accelerated computing",
    "gpuNum": 1,
    "hideHardwareSpecs": false,
    "memoryGiB": 16,
    "name": "ml.g5.xlarge",
    "vcpuNum": 4
   },
   {
    "_defaultOrder": 48,
    "_isFastLaunch": false,
    "category": "Accelerated computing",
    "gpuNum": 1,
    "hideHardwareSpecs": false,
    "memoryGiB": 32,
    "name": "ml.g5.2xlarge",
    "vcpuNum": 8
   },
   {
    "_defaultOrder": 49,
    "_isFastLaunch": false,
    "category": "Accelerated computing",
    "gpuNum": 1,
    "hideHardwareSpecs": false,
    "memoryGiB": 64,
    "name": "ml.g5.4xlarge",
    "vcpuNum": 16
   },
   {
    "_defaultOrder": 50,
    "_isFastLaunch": false,
    "category": "Accelerated computing",
    "gpuNum": 1,
    "hideHardwareSpecs": false,
    "memoryGiB": 128,
    "name": "ml.g5.8xlarge",
    "vcpuNum": 32
   },
   {
    "_defaultOrder": 51,
    "_isFastLaunch": false,
    "category": "Accelerated computing",
    "gpuNum": 1,
    "hideHardwareSpecs": false,
    "memoryGiB": 256,
    "name": "ml.g5.16xlarge",
    "vcpuNum": 64
   },
   {
    "_defaultOrder": 52,
    "_isFastLaunch": false,
    "category": "Accelerated computing",
    "gpuNum": 4,
    "hideHardwareSpecs": false,
    "memoryGiB": 192,
    "name": "ml.g5.12xlarge",
    "vcpuNum": 48
   },
   {
    "_defaultOrder": 53,
    "_isFastLaunch": false,
    "category": "Accelerated computing",
    "gpuNum": 4,
    "hideHardwareSpecs": false,
    "memoryGiB": 384,
    "name": "ml.g5.24xlarge",
    "vcpuNum": 96
   },
   {
    "_defaultOrder": 54,
    "_isFastLaunch": false,
    "category": "Accelerated computing",
    "gpuNum": 8,
    "hideHardwareSpecs": false,
    "memoryGiB": 768,
    "name": "ml.g5.48xlarge",
    "vcpuNum": 192
   }
  ],
  "kernelspec": {
   "display_name": "Python 3 (ipykernel)",
   "language": "python",
   "name": "python3"
  },
  "language_info": {
   "codemirror_mode": {
    "name": "ipython",
    "version": 3
   },
   "file_extension": ".py",
   "mimetype": "text/x-python",
   "name": "python",
   "nbconvert_exporter": "python",
   "pygments_lexer": "ipython3",
   "version": "3.8.16"
  }
 },
 "nbformat": 4,
 "nbformat_minor": 5
}
