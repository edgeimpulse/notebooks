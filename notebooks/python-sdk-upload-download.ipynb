{
 "cells": [
  {
   "cell_type": "markdown",
   "id": "141d5896-bbc8-4074-b9a4-3129ddc1f690",
   "metadata": {},
   "source": [
    "# Using the Edge Impulse Python SDK to Upload and Download Data\n",
    "\n",
    "<!--- Do not modify the markdown for this example directly! It is generated from a notebook in https://github.com/edgeimpulse/notebooks --->"
   ]
  },
  {
   "cell_type": "markdown",
   "id": "45f88d97-6cc4-406f-a876-5071367ad259",
   "metadata": {},
   "source": [
    "<table class=\"tfo-notebook-buttons\" align=\"left\">\n",
    "  <td>\n",
    "    <a target=\"_blank\" href=\"https://docs.edgeimpulse.com/docs/tutorials/ml-and-data-engineering/ei-python-sdk/python-sdk-upload-download\"><img src=\"https://raw.githubusercontent.com/edgeimpulse/notebooks/main/.assets/images/logo-ei-32px.png\" /> View on edgeimpulse.com</a>\n",
    "  </td>\n",
    "  <td>\n",
    "    <a target=\"_blank\" href=\"https://colab.research.google.com/github/edgeimpulse/notebooks/blob/main/notebooks/python-sdk-upload-download.ipynb\"><img src=\"https://raw.githubusercontent.com/edgeimpulse/notebooks/main/.assets/images/logo-colab-32px.png\" /> Run in Colab</a>\n",
    "  </td>\n",
    "  <td>\n",
    "    <a target=\"_blank\" href=\"https://github.com/edgeimpulse/notebooks/blob/main/notebooks/python-sdk-upload-download.ipynb\"><img src=\"https://raw.githubusercontent.com/edgeimpulse/notebooks/main/.assets/images/logo-github-32px.png\" /> View source on GitHub</a>\n",
    "  </td>\n",
    "  <td>\n",
    "    <a href=\"https://raw.githubusercontent.com/edgeimpulse/notebooks/main/notebooks/python-sdk-upload-download.ipynb\" download><img src=\"https://raw.githubusercontent.com/edgeimpulse/notebooks/main/.assets/images/icon-download-32px.png\" /> Download notebook</a>\n",
    "  </td>\n",
    "</table>"
   ]
  },
  {
   "cell_type": "markdown",
   "id": "1d958839-d8cb-469e-9924-374370fb235f",
   "metadata": {},
   "source": [
    "If you want to upload files directly to an Edge Impulse project, we recommend using the [CLI uploader tool](https://docs.edgeimpulse.com/docs/tools/edge-impulse-cli/cli-uploader). However, sometimes you cannot upload your samples directly, as you might need to convert the files to one of the accepted formats or modify the data prior to model training. Edge Impulse offers [data augmentation](https://docs.edgeimpulse.com/docs/tips-and-tricks/data-augmentation) for some types of projects, but you might want to create your own custom augmentation scheme. Or perhaps you want to [generate synthetic data](https://docs.edgeimpulse.com/docs/tutorials/ml-and-data-engineering/generate-synthetic-datasets) and script the upload process.\n",
    "\n",
    "The Python SDK offers a set of functions to help you move data into and out of your project. This can be extremely helpful when generating or augmenting your dataset. The following cells demonstrate some of these upload and download functions.\n",
    "\n",
    "You can find the API documentation for the functions found in this tutorial [here](https://edgeimpulse.github.io/python-sdk/source/edgeimpulse.data.html). \n",
    "\n",
    "> **WARNING:** This notebook will add and delete data in your Edge Impulse project, so be careful! We recommend creating a throwaway project when testing this notebook."
   ]
  },
  {
   "cell_type": "code",
   "execution_count": null,
   "id": "68f553aa-ed96-4551-bc84-84b76d8add4c",
   "metadata": {},
   "outputs": [],
   "source": [
    "# If you have not done so already, install the following dependencies\n",
    "# !python -m pip install edgeimpulse"
   ]
  },
  {
   "cell_type": "code",
   "execution_count": null,
   "id": "370bd3e1-a6ea-4346-bfe5-a569ea06d611",
   "metadata": {},
   "outputs": [],
   "source": [
    "from datetime import datetime\n",
    "import io\n",
    "import json\n",
    "\n",
    "import edgeimpulse as ei"
   ]
  },
  {
   "cell_type": "markdown",
   "id": "461f43db-f44d-4e8b-abe2-269a611665f5",
   "metadata": {},
   "source": [
    "You will need to obtain an API key from an Edge Impulse project. Log into [edgeimpulse.com](https://edgeimpulse.com/) and create a new project. Open the project, navigate to **Dashboard** and click on the **Keys** tab to view your API keys. Double-click on the API key to highlight it, right-click, and select **Copy**.\n",
    "\n",
    "![Copy API key from Edge Impulse project](https://raw.githubusercontent.com/edgeimpulse/notebooks/main/.assets/images/python-sdk-copy-ei-api-key.png)\n",
    "\n",
    "Note that you do not actually need to use the project in the Edge Impulse Studio. We just need the API Key.\n",
    "\n",
    "Paste that API key string in the `ei.API_KEY` value in the following cell:"
   ]
  },
  {
   "cell_type": "code",
   "execution_count": null,
   "id": "8f41407f-4ee8-4ddb-9eea-ed7b6d3947a7",
   "metadata": {},
   "outputs": [],
   "source": [
    "# Settings <<<<<TODO: CHANGE THESE>>>>>\n",
    "ei.API_ENDPOINT = \"http://localhost:4800/v1\"\n",
    "ei.INGESTION_ENDPOINT = \"http://localhost:4810\"\n",
    "ei.API_KEY = \"ei_3881f52c5823ebe2d885aec9b0dac995836b36fb76b50e2aaf70b4293e90fbd9\" # Change this to your Edge Impulse API key"
   ]
  },
  {
   "cell_type": "markdown",
   "id": "97a8f05a-5ce0-4edc-a5d2-6cb1132135fe",
   "metadata": {},
   "source": [
    "## Upload folder\n",
    "\n",
    "You can upload all files in a directory using the Python SDK. Note that you can set the *category*, *label*, and *metadata* for all files with a single call. If you want to use a different label for each file set `label=None` in the function call and name your files with *\\<label\\>.\\<name\\>.\\<ext\\>*. For example, *wave.01.csv* will have the label *wave* when uploaded. See [here](https://docs.edgeimpulse.com/docs/tools/edge-impulse-cli/cli-uploader#custom-labeling-and-metadata) for more information."
   ]
  },
  {
   "cell_type": "code",
   "execution_count": null,
   "id": "d2ef5e4b-5fb7-4dcd-b455-e55188ded7fc",
   "metadata": {},
   "outputs": [],
   "source": [
    "# Download image files to use as an example dataset\n",
    "!mkdir -p dataset\n",
    "!wget -P dataset -q \\\n",
    "  https://raw.githubusercontent.com/edgeimpulse/notebooks/main/.assets/images/capacitor.01.png \\\n",
    "  https://raw.githubusercontent.com/edgeimpulse/notebooks/main/.assets/images/capacitor.02.png"
   ]
  },
  {
   "cell_type": "code",
   "execution_count": null,
   "id": "4f47479f-d742-474f-9e99-a98d5f0b2068",
   "metadata": {},
   "outputs": [],
   "source": [
    "# Upload the entire directory\n",
    "successes, fails = ei.data.upload_directory(\n",
    "    directory=\"dataset\",\n",
    "    category=\"training\",\n",
    "    label=None, # Will use the prefix before the '.' on each filename for the label\n",
    "    metadata={\n",
    "        \"date\": datetime.now().strftime('%Y-%m-%d %H:%M:%S'),\n",
    "        \"source\": \"camera\",\n",
    "    }\n",
    ")\n",
    "\n",
    "# Check to make sure there were no failures\n",
    "assert len(fails) == 0, \"Could not upload some files\"\n",
    "\n",
    "# Save the sample IDs, as we will need these to retrieve file information and delete samples\n",
    "ids = []\n",
    "for sample in successes:\n",
    "    ids.append(sample[0].sample_id)"
   ]
  },
  {
   "cell_type": "markdown",
   "id": "76b875be-e3e6-4a1f-bad3-8f4f4a0f0f99",
   "metadata": {},
   "source": [
    "If you head to the *Data acquisition* page on your project, you should see images in your dataset.\n",
    "\n",
    "![Images uploaded to Edge Impulse project](https://raw.githubusercontent.com/edgeimpulse/notebooks/main/.assets/images/python-sdk-upload-download-images.png)"
   ]
  },
  {
   "cell_type": "code",
   "execution_count": null,
   "id": "004d3780-1779-470a-9a74-122d4395b265",
   "metadata": {},
   "outputs": [],
   "source": [
    "# Review the sample IDs and get the associated server-side filename\n",
    "# Note the lack of extension! Multiple samples on the server can have the same filename.\n",
    "for id in ids:\n",
    "    filename = ei.data.get_filename_by_id(id)\n",
    "    print(f\"Sample ID: {id}, filename: {filename}\")"
   ]
  },
  {
   "cell_type": "markdown",
   "id": "107abe73-d16e-4e17-8b70-bebf91adf755",
   "metadata": {},
   "source": [
    "## Download files\n",
    "\n",
    "You can download samples from your Edge Impulse project if you know the sample IDs. You can get sample IDs by calling the `ei.data.get_sample_ids()` function, which allows you to filter IDs based on filename, category, and label. "
   ]
  },
  {
   "cell_type": "code",
   "execution_count": null,
   "id": "4322955a-efb1-4bf9-a5c7-a4042b78b2e2",
   "metadata": {},
   "outputs": [],
   "source": [
    "# Get sample IDs for everything in the \"training\" category\n",
    "# TODO: FIX THIS\n",
    "filenames = [\"dog-ball-toy.01\", \"dog-ball-toy.02\", \"capacitor.01\", \"capacitor.02\"]\n",
    "ids = []\n",
    "for filename in filenames:\n",
    "    ids.extend(ei.data.get_ids_by_filename(filename))"
   ]
  },
  {
   "cell_type": "code",
   "execution_count": null,
   "id": "2ff7ff84-142e-43f0-8282-1808c217429f",
   "metadata": {},
   "outputs": [],
   "source": [
    "# Download samples\n",
    "samples = ei.data.download_samples_by_ids(ids)\n",
    "\n",
    "# Save the downloaded files\n",
    "for sample in samples:\n",
    "    with open(sample.filename, \"wb\") as file:\n",
    "        file.write(sample.data.read())\n",
    "\n",
    "# View sample information\n",
    "for sample in samples:\n",
    "    print(\n",
    "        f\"filename: {sample.filename}\\r\\n\"\n",
    "        f\"  sample ID: {sample.sample_id}\\r\\n\"\n",
    "        f\"  category: {sample.category}\\r\\n\"\n",
    "        f\"  label: {sample.label}\\r\\n\"\n",
    "        f\"  bounding boxes: {sample.bounding_boxes}\\r\\n\"\n",
    "        f\"  metadata: {sample.metadata}\"\n",
    "    )"
   ]
  },
  {
   "cell_type": "markdown",
   "id": "241e8f63-75be-4fd2-8c8c-4de1327ad6f3",
   "metadata": {},
   "source": [
    "Take a look at the files in this directory. You should see the downloaded images. They should match the images in the *dataset/* directory, which were the original images that we uploaded."
   ]
  },
  {
   "cell_type": "markdown",
   "id": "9000817d-3149-442e-a82c-17ba8f770b68",
   "metadata": {},
   "source": [
    "## Delete files\n",
    "\n",
    "If you know the ID of the sample you would like to delete, you can call the `ei.data.delete_sample_by_id()` function. You can also delete all the samples in your project by calling `ei.data.delete_all_samples()`."
   ]
  },
  {
   "cell_type": "code",
   "execution_count": null,
   "id": "4ad85df3-c232-4eeb-b49a-5ba6ab830e8d",
   "metadata": {},
   "outputs": [],
   "source": [
    "# Delete the samples from the Edge Impulse project that we uploaded earlier\n",
    "for id in ids:\n",
    "    ei.data.delete_sample_by_id(id)"
   ]
  },
  {
   "cell_type": "markdown",
   "id": "19ecb3e8-a371-41ce-9ee1-03044d468972",
   "metadata": {},
   "source": [
    "Take a look at the data in your project. The samples that we uploaded should be gone."
   ]
  },
  {
   "cell_type": "markdown",
   "id": "0f5c1235-d084-46be-8aff-fca40be9a74d",
   "metadata": {},
   "source": [
    "## Upload folder for object detection\n",
    "\n",
    "For object detection, you can put bounding box information (following the [Edge Impulse bounding box format](https://docs.edgeimpulse.com/reference/image-dataset-annotation-formats)) in a file named *labels.info* in that same directory."
   ]
  },
  {
   "cell_type": "code",
   "execution_count": null,
   "id": "84b47e73-b6c0-4ea1-8f46-6a667e42417a",
   "metadata": {},
   "outputs": [],
   "source": [
    "# Download image files to use as an example dataset\n",
    "!mkdir -p dataset\n",
    "!rm dataset/capacitor.01.png dataset/capacitor.02.png\n",
    "!wget -P dataset -q \\\n",
    "  https://raw.githubusercontent.com/edgeimpulse/notebooks/main/.assets/images/dog-ball-toy.01.png \\\n",
    "  https://raw.githubusercontent.com/edgeimpulse/notebooks/main/.assets/images/dog-ball-toy.02.png \\\n",
    "  https://raw.githubusercontent.com/edgeimpulse/notebooks/main/.assets/annotations/info.labels"
   ]
  },
  {
   "cell_type": "markdown",
   "id": "425b6287-d6f6-4db6-bb21-25befeef6b25",
   "metadata": {},
   "source": [
    "## Upload CSV data\n",
    "\n",
    "The Edge Impulse ingestion service accepts CSV files, which we can use to upload raw data. Note that if you configure a CSV template using the [CSV Wizard](https://docs.edgeimpulse.com/docs/edge-impulse-studio/data-acquisition/csv-wizard), then the expected format of the CSV file might change."
   ]
  },
  {
   "cell_type": "code",
   "execution_count": null,
   "id": "bbfc41da-529b-4aba-b0db-24b69a697bb5",
   "metadata": {},
   "outputs": [],
   "source": [
    "# Create example CSV data\n",
    "sample_data = [\n",
    "    [\n",
    "        [\"timestamp\", \"accX\", \"accY\", \"accZ\"],\n",
    "        [-9.81, 0.03, 0.21],\n",
    "        [-9.83, 0.04, 0.27],\n",
    "        [-9.12, 0.03, 0.23],\n",
    "        [-9.14, 0.01, 0.25],\n",
    "    ],\n",
    "    [\n",
    "        [\"timestamp\", \"accX\", \"accY\", \"accZ\"],\n",
    "        [-9.56, 5.34, 1.21],\n",
    "        [-9.43, 1.37, 1.27],\n",
    "        [-9.22, -4.03, 1.23],\n",
    "        [-9.50, -0.98, 1.25],\n",
    "    ],\n",
    "]"
   ]
  },
  {
   "cell_type": "markdown",
   "id": "7a274d71-2e6a-4a0e-ba46-49986355a9dd",
   "metadata": {},
   "source": [
    "## Upload JSON data\n",
    "\n",
    "Another way to upload data is to encode it in JSON format. See the [data acquisition format specificaion](https://docs.edgeimpulse.com/reference/data-acquisition-format#data-acquisition-format-specification) for more information on acceptable key/value pairs. Note that at this time, the `signature` value can be set to `0`.\n",
    "\n",
    "The raw data must be encoded in an IO object. We convert the dictionary objects to a `BytesIO` object, but you can also read in data from *.json* files."
   ]
  },
  {
   "cell_type": "code",
   "execution_count": null,
   "id": "e1cbcbfd-b79d-4e7e-a339-b4dbf5af4269",
   "metadata": {},
   "outputs": [],
   "source": [
    "# Create two different example data samples\n",
    "sample_data_1 = {\n",
    "    \"protected\": {\n",
    "        \"ver\": \"v1\",\n",
    "        \"alg\": \"none\",\n",
    "    },\n",
    "    \"signature\": 0,\n",
    "    \"payload\": {\n",
    "        \"device_name\": \"ac:87:a3:0a:2d:1b\",\n",
    "        \"device_type\": \"DISCO-L475VG-IOT01A\",\n",
    "        \"interval_ms\": 10,\n",
    "        \"sensors\": [\n",
    "            { \"name\": \"accX\", \"units\": \"m/s2\" },\n",
    "            { \"name\": \"accY\", \"units\": \"m/s2\" },\n",
    "            { \"name\": \"accZ\", \"units\": \"m/s2\" }\n",
    "        ],\n",
    "        \"values\": [\n",
    "            [ -9.81, 0.03, 0.21 ],\n",
    "            [ -9.83, 0.04, 0.27 ],\n",
    "            [ -9.12, 0.03, 0.23 ],\n",
    "            [ -9.14, 0.01, 0.25 ]\n",
    "        ]\n",
    "    }\n",
    "}\n",
    "sample_data_2 = {\n",
    "    \"protected\": {\n",
    "        \"ver\": \"v1\",\n",
    "        \"alg\": \"none\",\n",
    "    },\n",
    "    \"signature\": 0,\n",
    "    \"payload\": {\n",
    "        \"device_name\": \"ac:87:a3:0a:2d:1b\",\n",
    "        \"device_type\": \"DISCO-L475VG-IOT01A\",\n",
    "        \"interval_ms\": 10,\n",
    "        \"sensors\": [\n",
    "            { \"name\": \"accX\", \"units\": \"m/s2\" },\n",
    "            { \"name\": \"accY\", \"units\": \"m/s2\" },\n",
    "            { \"name\": \"accZ\", \"units\": \"m/s2\" }\n",
    "        ],\n",
    "        \"values\": [\n",
    "            [ -9.56, 5.34, 1.21 ],\n",
    "            [ -9.43, 1.37, 1.27 ],\n",
    "            [ -9.22, -4.03, 1.23 ],\n",
    "            [ -9.50, -0.98, 1.25 ]\n",
    "        ]\n",
    "    }\n",
    "}"
   ]
  },
  {
   "cell_type": "code",
   "execution_count": null,
   "id": "1d63e428-c14e-4dad-9def-07936974883e",
   "metadata": {},
   "outputs": [],
   "source": [
    "# Provide a filename, category, label, and optional metadata for each sample\n",
    "my_samples = [\n",
    "    {\n",
    "        \"filename\": \"001.json\",\n",
    "        \"data\": io.BytesIO(json.dumps(sample_data_1).encode('utf-8')),\n",
    "        \"category\": \"training\",\n",
    "        \"label\": \"idle\",\n",
    "        \"metadata\": {\n",
    "            \"source\": \"accelerometer\",\n",
    "            \"collection site\": \"desk\",\n",
    "        },\n",
    "    },\n",
    "    {\n",
    "        \"filename\": \"002.json\",\n",
    "        \"data\": io.BytesIO(json.dumps(sample_data_2).encode('utf-8')),\n",
    "        \"category\": \"training\",\n",
    "        \"label\": \"wave\",\n",
    "        \"metadata\": {\n",
    "            \"source\": \"accelerometer\",\n",
    "            \"collection site\": \"desk\",\n",
    "        },\n",
    "    },\n",
    "]"
   ]
  },
  {
   "cell_type": "code",
   "execution_count": null,
   "id": "924bc9f0-e248-49c1-92ce-152340292a3d",
   "metadata": {},
   "outputs": [],
   "source": [
    "# Wrap the samples in instances of the Sample class\n",
    "samples = [ei.data.sample_type.Sample(**i) for i in my_samples]\n",
    "\n",
    "# Upload samples to your project\n",
    "successes, fails = ei.data.upload_samples(samples)\n",
    "\n",
    "# Check to make sure there were no failures\n",
    "assert len(fails) == 0, \"Could not upload some files\"\n",
    "\n",
    "# Save the sample IDs, as we will need these to retrieve file information and delete samples\n",
    "ids = []\n",
    "for sample in successes:\n",
    "    ids.append(sample[0].sample_id)"
   ]
  },
  {
   "cell_type": "markdown",
   "id": "f41e3442-d38b-4145-ab36-4203db6b066d",
   "metadata": {},
   "source": [
    "If you head to the *Data acquisition* page on your project, you should see your time series data.\n",
    "\n",
    "![Copy API key from Edge Impulse project](https://raw.githubusercontent.com/edgeimpulse/notebooks/main/.assets/images/python-sdk-upload-download-json-data.png)"
   ]
  },
  {
   "cell_type": "code",
   "execution_count": null,
   "id": "3c5f50e7-d7bb-4bad-8881-5d59f94afde7",
   "metadata": {},
   "outputs": [],
   "source": [
    "# Delete the samples from the Edge Impulse project\n",
    "for id in ids:\n",
    "    ei.data.delete_sample_by_id(id)"
   ]
  },
  {
   "cell_type": "code",
   "execution_count": null,
   "id": "dc73f49c-ac77-481e-ab46-5a50033e8655",
   "metadata": {},
   "outputs": [],
   "source": []
  }
 ],
 "metadata": {
  "kernelspec": {
   "display_name": "Python 3 (ipykernel)",
   "language": "python",
   "name": "python3"
  },
  "language_info": {
   "codemirror_mode": {
    "name": "ipython",
    "version": 3
   },
   "file_extension": ".py",
   "mimetype": "text/x-python",
   "name": "python",
   "nbconvert_exporter": "python",
   "pygments_lexer": "ipython3",
   "version": "3.8.16"
  }
 },
 "nbformat": 4,
 "nbformat_minor": 5
}
