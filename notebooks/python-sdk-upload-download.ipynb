{
 "cells": [
  {
   "cell_type": "markdown",
   "id": "141d5896-bbc8-4074-b9a4-3129ddc1f690",
   "metadata": {},
   "source": [
    "# Using the Edge Impulse Python SDK to Upload and Download Data\n",
    "\n",
    "<!--- Do not modify the markdown for this example directly! It is generated from a notebook in https://github.com/edgeimpulse/notebooks --->"
   ]
  },
  {
   "cell_type": "markdown",
   "id": "45f88d97-6cc4-406f-a876-5071367ad259",
   "metadata": {},
   "source": [
    "<table class=\"tfo-notebook-buttons\" align=\"left\">\n",
    "  <td>\n",
    "    <a target=\"_blank\" href=\"https://docs.edgeimpulse.com/docs/edge-impulse-python-sdk/python-sdk-upload-download\"><img src=\"https://raw.githubusercontent.com/edgeimpulse/notebooks/main/.assets/images/logo-ei-32px.png\" /> View on edgeimpulse.com</a>\n",
    "  </td>\n",
    "  <td>\n",
    "    <a target=\"_blank\" href=\"https://colab.research.google.com/github/edgeimpulse/notebooks/blob/main/notebooks/python-sdk-upload-download.ipynb\"><img src=\"https://raw.githubusercontent.com/edgeimpulse/notebooks/main/.assets/images/logo-colab-32px.png\" /> Run in Colab</a>\n",
    "  </td>\n",
    "  <td>\n",
    "    <a target=\"_blank\" href=\"https://github.com/edgeimpulse/notebooks/blob/main/notebooks/python-sdk-upload-download.ipynb\"><img src=\"https://raw.githubusercontent.com/edgeimpulse/notebooks/main/.assets/images/logo-github-32px.png\" /> View source on GitHub</a>\n",
    "  </td>\n",
    "  <td>\n",
    "    <a href=\"https://raw.githubusercontent.com/edgeimpulse/notebooks/main/notebooks/python-sdk-upload-download.ipynb\" download><img src=\"https://raw.githubusercontent.com/edgeimpulse/notebooks/main/.assets/images/icon-download-32px.png\" /> Download notebook</a>\n",
    "  </td>\n",
    "</table>"
   ]
  },
  {
   "cell_type": "markdown",
   "id": "1d958839-d8cb-469e-9924-374370fb235f",
   "metadata": {},
   "source": [
    "TODO: write description\n",
    "\n",
    "> **WARNING:** This notebook will delete data in your Edge Impulse project, so be careful! We recommend creating a throwaway project when testing this notebook."
   ]
  },
  {
   "cell_type": "code",
   "execution_count": null,
   "id": "68f553aa-ed96-4551-bc84-84b76d8add4c",
   "metadata": {},
   "outputs": [],
   "source": [
    "# If you have not done so already, install the following dependencies\n",
    "# !python -m pip install edgeimpulse"
   ]
  },
  {
   "cell_type": "code",
   "execution_count": null,
   "id": "370bd3e1-a6ea-4346-bfe5-a569ea06d611",
   "metadata": {},
   "outputs": [],
   "source": [
    "import io\n",
    "\n",
    "import edgeimpulse as ei"
   ]
  },
  {
   "cell_type": "markdown",
   "id": "461f43db-f44d-4e8b-abe2-269a611665f5",
   "metadata": {},
   "source": [
    "You will need to obtain an API key from an Edge Impulse project. Log into [edgeimpulse.com](https://edgeimpulse.com/) and create a new project. Open the project, navigate to **Dashboard** and click on the **Keys** tab to view your API keys. Double-click on the API key to highlight it, right-click, and select **Copy**.\n",
    "\n",
    "![Copy API key from Edge Impulse project](https://raw.githubusercontent.com/edgeimpulse/notebooks/main/.assets/images/python-sdk-copy-ei-api-key.png)\n",
    "\n",
    "Note that you do not actually need to use the project in the Edge Impulse Studio. We just need the API Key.\n",
    "\n",
    "Paste that API key string in the `ei.API_KEY` value in the following cell:"
   ]
  },
  {
   "cell_type": "code",
   "execution_count": null,
   "id": "8f41407f-4ee8-4ddb-9eea-ed7b6d3947a7",
   "metadata": {},
   "outputs": [],
   "source": [
    "# Settings\n",
    "ei.API_KEY = \"ei_47649fc7d8b94f9fbf64b9abcf4013845edb8fbfb556bb151663165c36ee4555\" # Change this to your Edge Impulse API key"
   ]
  },
  {
   "cell_type": "markdown",
   "id": "7a274d71-2e6a-4a0e-ba46-49986355a9dd",
   "metadata": {},
   "source": [
    "## Upload JSON data\n",
    "\n",
    "One way to upload data is to encode it in JSON format. See the [data acquisition format specificaion](https://docs.edgeimpulse.com/reference/data-acquisition-format#data-acquisition-format-specification) for more information on acceptable key/value pairs. Note that at this time, the `signature` value can be set to `0`. The raw data must be encoded in an IO object."
   ]
  },
  {
   "cell_type": "code",
   "execution_count": null,
   "id": "8376bf95-e94b-43c3-a861-85d2b6c7b366",
   "metadata": {},
   "outputs": [],
   "source": [
    "import json"
   ]
  },
  {
   "cell_type": "code",
   "execution_count": null,
   "id": "e1cbcbfd-b79d-4e7e-a339-b4dbf5af4269",
   "metadata": {},
   "outputs": [],
   "source": [
    "# Create two different example data samples\n",
    "sample_data_1 = {\n",
    "    \"protected\": {\n",
    "        \"ver\": \"v1\",\n",
    "        \"alg\": \"none\",\n",
    "    },\n",
    "    \"signature\": 0,\n",
    "    \"payload\": {\n",
    "        \"device_name\": \"ac:87:a3:0a:2d:1b\",\n",
    "        \"device_type\": \"DISCO-L475VG-IOT01A\",\n",
    "        \"interval_ms\": 10,\n",
    "        \"sensors\": [\n",
    "            { \"name\": \"accX\", \"units\": \"m/s2\" },\n",
    "            { \"name\": \"accY\", \"units\": \"m/s2\" },\n",
    "            { \"name\": \"accZ\", \"units\": \"m/s2\" }\n",
    "        ],\n",
    "        \"values\": [\n",
    "            [ -9.81, 0.03, 0.21 ],\n",
    "            [ -9.83, 0.04, 0.27 ],\n",
    "            [ -9.12, 0.03, 0.23 ],\n",
    "            [ -9.14, 0.01, 0.25 ]\n",
    "        ]\n",
    "    }\n",
    "}\n",
    "sample_data_2 = {\n",
    "    \"protected\": {\n",
    "        \"ver\": \"v1\",\n",
    "        \"alg\": \"none\",\n",
    "    },\n",
    "    \"signature\": 0,\n",
    "    \"payload\": {\n",
    "        \"device_name\": \"ac:87:a3:0a:2d:1b\",\n",
    "        \"device_type\": \"DISCO-L475VG-IOT01A\",\n",
    "        \"interval_ms\": 10,\n",
    "        \"sensors\": [\n",
    "            { \"name\": \"accX\", \"units\": \"m/s2\" },\n",
    "            { \"name\": \"accY\", \"units\": \"m/s2\" },\n",
    "            { \"name\": \"accZ\", \"units\": \"m/s2\" }\n",
    "        ],\n",
    "        \"values\": [\n",
    "            [ -9.56, 5.34, 1.21 ],\n",
    "            [ -9.43, 1.37, 1.27 ],\n",
    "            [ -9.22, -4.03, 1.23 ],\n",
    "            [ -9.50, -0.98, 1.25 ]\n",
    "        ]\n",
    "    }\n",
    "}"
   ]
  },
  {
   "cell_type": "code",
   "execution_count": null,
   "id": "1d63e428-c14e-4dad-9def-07936974883e",
   "metadata": {},
   "outputs": [],
   "source": [
    "# Provide a filename, category, label, and optional metadata for each sample\n",
    "my_samples = [\n",
    "    {\n",
    "        \"filename\": \"001.json\",\n",
    "        \"data\": io.BytesIO(json.dumps(sample_data_1).encode('utf-8')),\n",
    "        \"category\": \"training\",\n",
    "        \"label\": \"idle\",\n",
    "        \"metadata\": {\n",
    "            \"source\": \"accelerometer\",\n",
    "            \"collection site\": \"desk\",\n",
    "        },\n",
    "    },\n",
    "    {\n",
    "        \"filename\": \"002.json\",\n",
    "        \"data\": io.BytesIO(json.dumps(sample_data_2).encode('utf-8')),\n",
    "        \"category\": \"training\",\n",
    "        \"label\": \"wave\",\n",
    "        \"metadata\": {\n",
    "            \"source\": \"accelerometer\",\n",
    "            \"collection site\": \"desk\",\n",
    "        },\n",
    "    },\n",
    "]"
   ]
  },
  {
   "cell_type": "code",
   "execution_count": null,
   "id": "924bc9f0-e248-49c1-92ce-152340292a3d",
   "metadata": {},
   "outputs": [],
   "source": [
    "# Wrap the samples in instances of the Sample class\n",
    "samples = [ei.data.sample_type.Sample(**i) for i in my_samples]\n",
    "\n",
    "# Upload samples to your project\n",
    "successes, fails = ei.data.upload_samples(samples)\n",
    "\n",
    "# TODO: Check successes and fails"
   ]
  },
  {
   "cell_type": "markdown",
   "id": "f41e3442-d38b-4145-ab36-4203db6b066d",
   "metadata": {},
   "source": [
    "If you head to the *Data acquisition* page on your project, you should see your \n",
    "\n",
    "![Copy API key from Edge Impulse project](https://raw.githubusercontent.com/edgeimpulse/notebooks/main/.assets/images/python-sdk-upload-download-json-data.png)"
   ]
  },
  {
   "cell_type": "code",
   "execution_count": null,
   "id": "d31b1f17-f3b9-4f7c-bc18-69808f4ce3b3",
   "metadata": {},
   "outputs": [],
   "source": []
  }
 ],
 "metadata": {
  "kernelspec": {
   "display_name": "Python 3 (ipykernel)",
   "language": "python",
   "name": "python3"
  },
  "language_info": {
   "codemirror_mode": {
    "name": "ipython",
    "version": 3
   },
   "file_extension": ".py",
   "mimetype": "text/x-python",
   "name": "python",
   "nbconvert_exporter": "python",
   "pygments_lexer": "ipython3",
   "version": "3.8.16"
  }
 },
 "nbformat": 4,
 "nbformat_minor": 5
}
