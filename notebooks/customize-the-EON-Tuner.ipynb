{
 "cells": [
  {
   "attachments": {},
   "cell_type": "markdown",
   "metadata": {},
   "source": [
    "[![Works with Edge Impulse](https://raw.githubusercontent.com/edgeimpulse/notebooks/main/.assets/images/ei-badge.svg)](http://edgeimpulse.com) [![Open in Google Colab](https://colab.research.google.com/assets/colab-badge.svg)](https://colab.research.google.com/github/edgeimpulse/notebooks/blob/main/notebooks/customize-the-EON-Tuner.ipynb) "
   ]
  },
  {
   "attachments": {},
   "cell_type": "markdown",
   "metadata": {
    "id": "OHe4nlzBw_EE"
   },
   "source": [
    "# How to Customize and Run the AutoML EON Tuner Programmatically\n",
    "\n",
    "The EON Tuner is Edge Impulse's AutoML (automated machine learning) tool to help you find and select the best embedded machine learning model for your application within the constraints of your target device.\n",
    "\n",
    "This notebook will show you how to configure and run the EON Tuner programmatically using the [Edge Impulse API](https://docs.edgeimpulse.com/reference/edge-impulse-api)!"
   ]
  },
  {
   "attachments": {},
   "cell_type": "markdown",
   "metadata": {
    "id": "Gabxp1bpxD7Y"
   },
   "source": [
    "## 1. Setup"
   ]
  },
  {
   "attachments": {},
   "cell_type": "markdown",
   "metadata": {
    "id": "nOvL95nOzufA"
   },
   "source": [
    "This section will set up your environment and API credentials so that you can start making calls to the [Edge Impulse API](https://docs.edgeimpulse.com/reference/edge-impulse-api) from this notebook. Run this block only once per runtime session, or every time you:\n",
    "- Open the notebook on your browser or IDE to start working on it, or\n",
    "- restart the runtime, or\n",
    "- change the project you are working on\n",
    "\n",
    "API documentation is available at https://docs.edgeimpulse.com/reference/edge-impulse-api"
   ]
  },
  {
   "attachments": {},
   "cell_type": "markdown",
   "metadata": {
    "id": "SrJWItdoJcLV"
   },
   "source": [
    "### 1.1 Update your `PROJECT_ID`"
   ]
  },
  {
   "attachments": {},
   "cell_type": "markdown",
   "metadata": {
    "id": "n_X0UsQOJk9y"
   },
   "source": [
    "You will need to enter the correct `PROJECT_ID` for the project you want to work with, in the code in section 1.3 below. The project ID can be obtained from your Edge Impulse Project's Dashboard under the **Project Info** section."
   ]
  },
  {
   "attachments": {},
   "cell_type": "markdown",
   "metadata": {
    "id": "lE678NIpJ3XU"
   },
   "source": [
    "### 1.2 Obtain your API Key\n",
    "\n",
    "The block below will prompt you for your project's API Key. You can obtain this key from your Project's Dashboard, by selecting the **Keys** tab from the top navigation bar."
   ]
  },
  {
   "attachments": {},
   "cell_type": "markdown",
   "metadata": {
    "id": "i2p4oGfrKNmf"
   },
   "source": [
    "### 1.3 Run the setup block\n",
    "\n",
    "Run the block below and enter your API key when prompted. Then continue to the next section."
   ]
  },
  {
   "cell_type": "code",
   "execution_count": null,
   "metadata": {
    "id": "DnPldh6Nv0za"
   },
   "outputs": [],
   "source": [
    "import getpass\n",
    "import requests\n",
    "import json\n",
    "import pytz\n",
    "from datetime import datetime\n",
    "import time\n",
    "import sys\n",
    "\n",
    "PROJECT_ID = 94424  #👈🏼 Update as necessary!\n",
    "\n",
    "URL_STUDIO = \"https://studio.edgeimpulse.com/v1/api/\"\n",
    "URL_PROJECT = URL_STUDIO + str(PROJECT_ID)\n",
    "KEY = getpass.getpass('Enter your API key: ')\n",
    "API_HEADERS = {\n",
    "    \"Accept\": \"application/json\",\n",
    "    \"x-api-key\": KEY  #👈🏼 Update as necessary!\n",
    "}\n",
    "\n",
    "\n",
    "def get_eon_info(project, response_key):\n",
    "    response = requests.get(URL_STUDIO + str(project) + \"/optimize/state\",\n",
    "                            headers=API_HEADERS)\n",
    "    if response.ok:\n",
    "        return json.loads(response.text)[response_key]\n",
    "\n",
    "response = requests.get(URL_PROJECT, headers=API_HEADERS)\n",
    "if response.ok:\n",
    "    data = json.loads(response.text)\n",
    "    print(json.dumps(data, indent=2))\n",
    "else:\n",
    "    print(\"\\n⛔️ An Error Ocurred, do you have the correct project ID?\")"
   ]
  },
  {
   "attachments": {},
   "cell_type": "markdown",
   "metadata": {
    "id": "UE3fudIr5hup"
   },
   "source": [
    "## 2. Customization"
   ]
  },
  {
   "attachments": {},
   "cell_type": "markdown",
   "metadata": {
    "id": "_qPW3WnwGAC4"
   },
   "source": [
    "You can use the code in section 2.2 below to programmatically update the configuration of the EON Tuner. "
   ]
  },
  {
   "attachments": {},
   "cell_type": "markdown",
   "metadata": {
    "id": "IlOl48FUGAC4"
   },
   "source": [
    "### 2.1 Enable advanced EON Tuner mode (optional)"
   ]
  },
  {
   "attachments": {},
   "cell_type": "markdown",
   "metadata": {
    "id": "r1iDdyLDGAC5"
   },
   "source": [
    "In basic mode (the default) you will be able to modify the `datasetCategory`, `targetLatency` and `targetDevice`. For additional control, ask your User Success or Solutions Engineer to enable the EON Tuner advanced mode for you."
   ]
  },
  {
   "attachments": {},
   "cell_type": "markdown",
   "metadata": {
    "id": "e07CSveEGAC5"
   },
   "source": [
    "### 2.2 Update the EON Tuner configuration"
   ]
  },
  {
   "cell_type": "code",
   "execution_count": null,
   "metadata": {
    "id": "D0rlrYjxGAC5"
   },
   "outputs": [],
   "source": [
    "if \"running\" == get_eon_info(PROJECT_ID, \"status\")[\"status\"]:\n",
    "    print(\n",
    "        \"EON Tuner job is running, run section 2.4 to track the job's progress.\"\n",
    "    )\n",
    "else:\n",
    "    payload = {\n",
    "        \"datasetCategory\": # Select one of:\n",
    "            # \"speech_keyword\"\n",
    "            # \"speech_continuous\"\n",
    "            # \"audio_event\"\n",
    "            # \"audio_continuous\"\n",
    "            # \"transfer_learning\"\n",
    "            # \"motion_event\"\n",
    "            # \"motion_continuous\"\n",
    "            # \"audio_syntiant\"\n",
    "            \"audio_continuous\",\n",
    "        \"targetLatency\": 500,  # Latency in ms\n",
    "        \"targetDevice\": {\n",
    "            \"name\":  # Select one of:\n",
    "            # cortex-m4f-80mhz\n",
    "            # cortex-m7-216mhz\n",
    "            # st-iot-discovery-kit\n",
    "            # arduino-nano-33-ble\n",
    "            # nordic-nrf52840-dk\n",
    "            # nordic-nrf5340-dk\n",
    "            # nordic-nrf9160-dk\n",
    "            # silabs-thunderboard-sense-2\n",
    "            # silabs-xg24\n",
    "            # synaptics-ka10000\n",
    "            # himax-we-i\n",
    "            # wio-terminal\n",
    "            # sony-spresense\n",
    "            # ti-launchxl\n",
    "            # portenta-h7\n",
    "            # mbp-16-2020\n",
    "            # raspberry-pi-4\n",
    "            # raspberry-pi-rp2040\n",
    "            # jetson-nano\n",
    "            \"jetson-nano\",\n",
    "            \"ram\": 262144,  # Memory in bytes\n",
    "            \"rom\": 1048576  # Memory in bytes\n",
    "        },\n",
    "        \"trainingCycles\": 10,  # Default 100\n",
    "        \"tuningMaxTrials\": 3,  # Default 30\n",
    "        \"tuningWorkers\": 9,  # Default 3\n",
    "        \"minMACCS\": 100,  # Default 0\n",
    "        \"maxMACCS\": 1750,  # Default 1750000\n",
    "        \"tuningAlgorithm\": # Select one of:\n",
    "        # \"random\"\n",
    "        # \"hyperband\"\n",
    "        # \"bayesian\"\n",
    "        \"random\"\n",
    "    }\n",
    "    response = requests.post(URL_PROJECT + \"/optimize/config\",\n",
    "                            headers=API_HEADERS,\n",
    "                            json=payload)\n",
    "    if response.ok:\n",
    "        # Show me the new configuration\n",
    "        response = requests.get(URL_PROJECT + \"/optimize/state\", headers=API_HEADERS)\n",
    "        if response.ok:\n",
    "            print(\"EON Tuner configuration updated successfully!\")\n",
    "            print(json.dumps(get_eon_info(PROJECT_ID, \"config\"), indent=2))"
   ]
  },
  {
   "attachments": {},
   "cell_type": "markdown",
   "metadata": {
    "id": "r0cypgtQGAC6"
   },
   "source": [
    "### 2.3 Start the EON Tuner"
   ]
  },
  {
   "attachments": {},
   "cell_type": "markdown",
   "metadata": {
    "id": "kUDLJihfak2v"
   },
   "source": [
    "Run the cell below to start spinning up EON Tuner optimization jobs. If your project is already running an EON Tuner optimization, go instead to section 2.4 to track the job's progress."
   ]
  },
  {
   "cell_type": "code",
   "execution_count": null,
   "metadata": {
    "id": "nKvJuNjB1Qqh"
   },
   "outputs": [],
   "source": [
    "if \"running\" == get_eon_info(PROJECT_ID, \"status\")[\"status\"]:\n",
    "    print(\n",
    "        \"EON Tuner job is running, run section 2.4 to track the job's progress.\"\n",
    "    )\n",
    "else:\n",
    "    response = requests.post(URL_PROJECT + \"/jobs/optimize\", headers=API_HEADERS)\n",
    "    if response.ok:\n",
    "        data = json.loads(response.text)\n",
    "        print(\"EON Tuner job %s started successfully!\" % data[\"id\"])\n",
    "        # print(json.dumps(data, indent=2))"
   ]
  },
  {
   "attachments": {},
   "cell_type": "markdown",
   "metadata": {
    "id": "yxWy6V0wGAC7"
   },
   "source": [
    "### 2.4 Track the EON Tuner optimization progress"
   ]
  },
  {
   "attachments": {},
   "cell_type": "markdown",
   "metadata": {
    "id": "5iAye1lWGAC7"
   },
   "source": [
    "Run the cell below to track the progress of your EON Tuner job. You can safely stop and restart the cell at any time since this will not affect the running EON Tuner jobs."
   ]
  },
  {
   "cell_type": "code",
   "execution_count": null,
   "metadata": {
    "id": "G7GNf0sBGAC7"
   },
   "outputs": [],
   "source": [
    "finished = False\n",
    "job_id = get_eon_info(PROJECT_ID, \"activeTunerJobId\")\n",
    "\n",
    "while not finished:\n",
    "    response = requests.get(URL_PROJECT + \"/jobs/\" + str(job_id) + \"/status\", headers=API_HEADERS)\n",
    "    if response.ok:\n",
    "        job_status = json.loads(response.text)\n",
    "        if \"finishedSuccessful\" in job_status[\"job\"].keys():\n",
    "            print(\"\\nJob completed\")\n",
    "            finished = True\n",
    "        else:\n",
    "            response = requests.get(URL_PROJECT + \"/optimize/state\", headers=API_HEADERS)\n",
    "            if response.ok:\n",
    "                status = json.loads(response.text)[\"status\"]\n",
    "                started = datetime.fromisoformat(job_status[\"job\"][\"started\"].replace(\"Z\", \"+00:00\"))\n",
    "                for iter in range(30):\n",
    "                    now = datetime.now(pytz.utc)\n",
    "                    diff = now - started\n",
    "                    sys.stdout.write(\"\\r[%s] \" % diff) # Back to the beginning\n",
    "                    for x in range(status[\"numCompletedTrials\"]):\n",
    "                        sys.stdout.write(\"█\")\n",
    "                    for x in range(status[\"numRunningTrials\"]):\n",
    "                        sys.stdout.write(\"▒\")\n",
    "                    for x in range(status[\"numPendingTrials\"]):\n",
    "                        sys.stdout.write(\" \")\n",
    "                    total = status[\"numCompletedTrials\"] + status[\n",
    "                        \"numRunningTrials\"] + status[\"numPendingTrials\"]\n",
    "                    sys.stdout.write(\" %d/%d\" % (status[\"numCompletedTrials\"], total))\n",
    "                    time.sleep(1)\n"
   ]
  },
  {
   "attachments": {},
   "cell_type": "markdown",
   "metadata": {
    "id": "rvnKLX46dCaN"
   },
   "source": [
    "### 2.5 Get the EON Tuner optimization results"
   ]
  },
  {
   "attachments": {},
   "cell_type": "markdown",
   "metadata": {
    "id": "IjETIGY3hMBO"
   },
   "source": [
    "Use the cell below to retrieve the EON Tuner optimization results and save them to the `trials` variable."
   ]
  },
  {
   "cell_type": "code",
   "execution_count": null,
   "metadata": {
    "id": "OSArHEocdOCi"
   },
   "outputs": [],
   "source": [
    "trials = get_eon_info(PROJECT_ID, \"trials\")\n",
    "print(trials[0].keys())"
   ]
  }
 ],
 "metadata": {
  "colab": {
   "collapsed_sections": [
    "IlOl48FUGAC4",
    "e07CSveEGAC5",
    "r0cypgtQGAC6"
   ],
   "private_outputs": true,
   "provenance": []
  },
  "kernelspec": {
   "display_name": "Python 3",
   "name": "python3"
  },
  "language_info": {
   "codemirror_mode": {
    "name": "ipython",
    "version": 3
   },
   "file_extension": ".py",
   "mimetype": "text/x-python",
   "name": "python",
   "nbconvert_exporter": "python",
   "pygments_lexer": "ipython3",
   "version": "3.9.12"
  }
 },
 "nbformat": 4,
 "nbformat_minor": 0
}
